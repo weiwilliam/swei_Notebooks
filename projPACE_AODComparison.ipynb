{
 "cells": [
  {
   "cell_type": "code",
   "execution_count": 1,
   "id": "31730ad4-468a-4936-b6a1-b1929af07a13",
   "metadata": {},
   "outputs": [],
   "source": [
    "import os\n",
    "from tqdm import tqdm\n",
    "import xarray as xa\n",
    "import pandas as pd\n",
    "import numpy as np\n",
    "import cartopy.crs as ccrs\n",
    "import matplotlib as mpl\n",
    "import matplotlib.pyplot as plt\n",
    "import matplotlib.colors as mpcrs\n",
    "from matplotlib import ticker\n",
    "from pylibs.custom_colormaps import white_gist_earth\n",
    "from pylibs.plot_utils import set_size, setupax_2dmap\n",
    "from pylibs.utils import setup_cmap, get_dates\n",
    "from joblib import Parallel, delayed"
   ]
  },
  {
   "cell_type": "code",
   "execution_count": 2,
   "id": "7832f600-ef6e-49db-be98-0a73b1852dc3",
   "metadata": {},
   "outputs": [],
   "source": [
    "sdate = 2024110100\n",
    "edate = 2024113018\n",
    "date_interval = 6\n",
    "dates = get_dates(sdate, edate, date_interval)\n",
    "bkg = 'MERRA-2'\n",
    "plot_wvl = 500\n",
    "plotvar = 'aerosolOpticalDepth'\n",
    "pltcyc = False\n",
    "pltstats = True\n",
    "all_omb_stats = False\n",
    "fsave = 1\n",
    "quality = 600\n",
    "# Plotting setup\n",
    "txsize = 14\n",
    "mpl.rc('axes', titlesize=txsize,labelsize=txsize)\n",
    "mpl.rc('xtick', labelsize=txsize)\n",
    "mpl.rc('ytick', labelsize=txsize)\n",
    "mpl.rc('legend', fontsize='large')"
   ]
  },
  {
   "cell_type": "code",
   "execution_count": 3,
   "id": "4d95a2fa-68f4-4b81-8f86-99e85a761262",
   "metadata": {},
   "outputs": [],
   "source": [
    "# control PDF, boxplot\n",
    "binwidth = 0.1\n",
    "halfbin = binwidth/2\n",
    "binmax = 2.\n",
    "bins = np.arange(0., binmax + halfbin, binwidth)\n",
    "bin_lb = [round(l, 2) for l in np.arange(0. + halfbin, binmax, binwidth)]\n",
    "bin_lb_str = [f'{l:.2f}' for l in bin_lb]\n",
    "zero_c_bins = np.arange(-binmax+halfbin, binmax + halfbin, binwidth)\n",
    "zero_c_bin_lb = np.where(abs(np.arange(-binmax+binwidth, binmax, binwidth)) < 1e-10,\n",
    "                         0, np.arange(-binmax+binwidth, binmax, binwidth))\n",
    "zero_c_bin_lb = [round(l, 2) for l in zero_c_bin_lb]\n",
    "zero_c_bin_lb_str = [f'{l:.2f}' for l in zero_c_bin_lb]\n",
    "\n",
    "# Control hist2d\n",
    "hist2d_in_log=1\n",
    "hist2d_xmax=5.0\n",
    "hist2d_xybins=30\n",
    "if hist2d_in_log:\n",
    "    h2d_axis = np.linspace(np.log(0.01), np.log(hist2d_xmax), hist2d_xybins+1)\n",
    "    h2d_axis = np.exp(h2d_axis)\n",
    "else:\n",
    "    h2d_axis = np.linspace(0.01, hist2d_xmax, hist2d_xybins+1)"
   ]
  },
  {
   "cell_type": "code",
   "execution_count": 4,
   "id": "717d9b8c-9a5c-4e30-ab13-d03054d1a53e",
   "metadata": {},
   "outputs": [],
   "source": [
    "hofx_path = '/glade/work/swei/Git/JEDI-METplus/output/aodobs_merra2/hofx/f00'\n",
    "obs_name_list = [\n",
    "    'aeronet_l15_aod',\n",
    "    # 'modis_terra_aod', 'modis_aqua_aod',\n",
    "    # 'pace_aod',\n",
    "    # 'viirs_aod_dt_npp', 'viirs_aod_dt_n20',\n",
    "    # 'viirs_aod_db_npp', 'viirs_aod_db_n20',\n",
    "]\n",
    "vardict = {\n",
    "    'obs': 'Obs',\n",
    "    'omb': 'OmB',\n",
    "    'hfx': 'HofX',\n",
    "}\n",
    "\n",
    "aeronet_aod_wvl = [340., 380., 440., 500., 675, 870., 1020., 1640.]\n",
    "\n",
    "data_name_dict = {\n",
    "    'pace_aod': 'OCI UAA AOD on PACE',\n",
    "    'modis_aqua_aod': 'MODIS AOD on Aqua',\n",
    "    'modis_terra_aod': 'MODIS AOD on Terra',\n",
    "    'viirs_aod_dt_n20': 'VIIRS DT AOD on NOAA-20',\n",
    "    'viirs_aod_db_n20': 'VIIRS DB AOD on NOAA-20',\n",
    "    'viirs_aod_dt_npp': 'VIIRS DT AOD on Suomi-NPP',\n",
    "    'viirs_aod_db_npp': 'VIIRS DB AOD on Suomi-NPP',\n",
    "    'aeronet_l15_aod': 'AERONET Level 1.5 AOD',\n",
    "}\n",
    "shortvar_dict = {\n",
    "    'aerosolOpticalDepth': 'AOD'\n",
    "}"
   ]
  },
  {
   "cell_type": "code",
   "execution_count": 5,
   "id": "b72e336c-ff88-4da2-a511-44486beb9920",
   "metadata": {},
   "outputs": [],
   "source": [
    "savedir = '/glade/work/swei/projects/mmm.pace_aod/plots'\n",
    "cycs_savedir = f'{savedir}/cycles'\n",
    "stat_savedir = f'{savedir}/stats/'\n",
    "if not os.path.exists(stat_savedir):\n",
    "    os.makedirs(stat_savedir)\n",
    "for varType in vardict.keys():\n",
    "    for obsname in obs_name_list:\n",
    "        cycdir = f'{cycs_savedir}/{varType}/{obsname}'\n",
    "        if not os.path.exists(cycdir):\n",
    "            os.makedirs(cycdir)"
   ]
  },
  {
   "cell_type": "code",
   "execution_count": 6,
   "id": "1d78d99d-6990-4088-93d0-880cc920712c",
   "metadata": {},
   "outputs": [],
   "source": [
    "area_corner = [1., 1., 1., 1.,]"
   ]
  },
  {
   "cell_type": "code",
   "execution_count": 7,
   "id": "e9675500-808a-47af-80cc-aa224c44224a",
   "metadata": {},
   "outputs": [],
   "source": [
    "def plt_glb_scatter(dataset, vartype, titlestr, save, savename):\n",
    "    pltds = dataset\n",
    "    fig, ax, gl = setupax_2dmap(area_corner, 'Glb', ccrs.PlateCarree(), lbsize=12)\n",
    "    set_size(8, 6)\n",
    "    if vartype == 'omb':\n",
    "        sc = ax.scatter(\n",
    "            pltds.lon,\n",
    "            pltds.lat,\n",
    "            c=pltds[vartype],\n",
    "            s=1,\n",
    "            vmin=-0.5,\n",
    "            vmax=0.5,\n",
    "            cmap='RdBu_r'\n",
    "        )\n",
    "        cnlvs = np.linspace(-0.5, 0.5, 11)\n",
    "    else:\n",
    "        cnlvs = [0., 0.05, 0.1, 0.15, 0.2, 0.4, 0.6, 0.8, 1.0, 1.2, 1.5, 2.5]\n",
    "        clridx = [2, 4, 5, 7, 8, 9, 10, 12, 14, 15, 16, 17, 18]\n",
    "        tuplelst, aodcmap = setup_cmap('precip3_16lev', cnlvs, clridx)\n",
    "        clr_norm = mpcrs.BoundaryNorm(cnlvs, len(clridx), extend='both')\n",
    "        sc = ax.scatter(\n",
    "            pltds.lon,\n",
    "            pltds.lat,\n",
    "            c=pltds[vartype],\n",
    "            s=1,\n",
    "            # levels=cnlvs,\n",
    "            cmap=aodcmap,\n",
    "            norm=clr_norm,\n",
    "        )\n",
    "    plt.colorbar(sc, fraction=0.025, pad=0.04, aspect=20, extend='both', ticks=cnlvs)\n",
    "    ax.set_title(titlestr)\n",
    "\n",
    "    if save:\n",
    "        fig.savefig(savename, dpi=quality)\n",
    "    plt.close()\n",
    "    return"
   ]
  },
  {
   "cell_type": "code",
   "execution_count": 8,
   "id": "dc0461ed-67a0-42db-aa44-17625e83364d",
   "metadata": {},
   "outputs": [],
   "source": [
    "def plt_box(dataframe, save, savename):\n",
    "\n",
    "    counts = dataframe['obs_bin'].value_counts().reindex(bin_lb)\n",
    "\n",
    "    ax = dataframe.boxplot(column='omb', by='obs_bin')\n",
    "    ax2 = ax.twiny()\n",
    "\n",
    "    # Set the same limits as the main x-axis\n",
    "    ax2.set_xlim(ax.get_xlim())\n",
    "\n",
    "    # Set tick positions (boxes are at positions 1, 2, 3, ..., so shift by +1)\n",
    "    tick_positions = range(1, len(bin_lb) + 1)\n",
    "    ax2.set_xticks(tick_positions)\n",
    "\n",
    "    # Hide spines of the top axis except the bottom (which becomes top visually)\n",
    "    ax2.xaxis.set_ticks_position('bottom')\n",
    "    ax2.xaxis.set_label_position('bottom')\n",
    "    ax2.spines['bottom'].set_position(('outward', 40))\n",
    "\n",
    "    # Set the labels to be the counts\n",
    "    ax2.set_xticklabels([f'{count}' for count in counts],\n",
    "                        fontsize=9, rotation=45.)\n",
    "    if save:\n",
    "        plt.tight_layout()\n",
    "        plt.savefig(savename, dpi=quality)\n",
    "    plt.close()\n",
    "    return"
   ]
  },
  {
   "cell_type": "code",
   "execution_count": 9,
   "id": "e7c63e72-6fca-447d-a5a3-5a80e6d026ae",
   "metadata": {},
   "outputs": [],
   "source": [
    "def plt_obs_hist(dataframe, obsname, save, savename, **kwargs):\n",
    "    ax = dataframe['obs'].plot(kind='hist', bins=bins, density=True, alpha=0.4, xticks=bin_lb,\n",
    "                               xlabel=f'{obsname}', ylabel='Frequency [%]', color='skyblue', edgecolor='black')\n",
    "    yval = [round(y, 1) for y in ax.get_yticks()]\n",
    "    ylb = [round(y*binwidth*100., 1) for y in yval]\n",
    "    ax.set_yticks(yval)\n",
    "    ax.set_yticklabels(ylb)\n",
    "    if save:\n",
    "        plt.savefig(savename, dpi=quality)\n",
    "    plt.close()\n",
    "    return"
   ]
  },
  {
   "cell_type": "code",
   "execution_count": 10,
   "id": "a4e04ed4-fb3a-4d99-afdd-add08136351b",
   "metadata": {},
   "outputs": [],
   "source": [
    "def plt_omb_hist(dataframe, obsname, save, savename, **kwargs):\n",
    "    ax = dataframe['omb'].plot(kind='hist', bins=zero_c_bins, density=True, alpha=0.4, xticks=zero_c_bin_lb,\n",
    "                               xlabel=f'omb {obsname}', ylabel='Frequency [%]', color='skyblue', edgecolor='black')\n",
    "    yval = [round(y, 1) for y in ax.get_yticks()]\n",
    "    ylb = [round(y*binwidth*100., 1) for y in yval]\n",
    "    ax.set_yticks(yval)\n",
    "    ax.set_yticklabels(ylb)\n",
    "    ax.set_xticklabels(zero_c_bin_lb_str, rotation=45)\n",
    "    if save:\n",
    "        plt.tight_layout()\n",
    "        plt.savefig(savename, dpi=quality)\n",
    "    plt.close()\n",
    "    return"
   ]
  },
  {
   "cell_type": "code",
   "execution_count": 11,
   "id": "c8653c06-6560-4b30-b265-696ce8ead557",
   "metadata": {},
   "outputs": [],
   "source": [
    "def plt_hist2d(dataframe, x, y, axis, save, savename, **kwargs):\n",
    "    x_data = dataframe[x]\n",
    "    y_data = dataframe[y]\n",
    "    xlbstr = kwargs.get('xlb', x)\n",
    "    ylbstr = kwargs.get('ylb', y)\n",
    "    hist2d, x_edge, y_edge = np.histogram2d(x_data,\n",
    "                                            y_data,\n",
    "                                            bins=axis)\n",
    "\n",
    "    cnlvs = np.linspace(0, hist2d.max(), 256)\n",
    "    clrnorm = mpcrs.BoundaryNorm(cnlvs, len(cnlvs), extend='max')\n",
    "\n",
    "    fig, ax = plt.subplots()\n",
    "    set_size(5, 5, b=0.1, l=0.1, r=0.95, t=0.95)\n",
    "    cn = ax.contourf(axis[:-1], axis[:-1], hist2d.swapaxes(0,1),\n",
    "                     levels=cnlvs, norm=clrnorm, cmap=white_gist_earth,\n",
    "                     extend='max',)\n",
    "    plt.plot(\n",
    "        [0.0, hist2d_xmax],\n",
    "        [0.0, hist2d_xmax],\n",
    "        color='gray',\n",
    "        linewidth=2,\n",
    "        linestyle='--'\n",
    "    )\n",
    "    plt.xlim(0.01, hist2d_xmax)\n",
    "    plt.ylim(0.01, hist2d_xmax)\n",
    "\n",
    "    if hist2d_in_log:\n",
    "        ax.set_xscale('log')\n",
    "        ax.set_yscale('log')\n",
    "    ax.set_aspect('equal')\n",
    "\n",
    "    plt.grid(alpha=0.5)\n",
    "    plt.xlabel(xlbstr) #, fontsize=11)\n",
    "    plt.ylabel(ylbstr) #, fontsize=11)\n",
    "    # plt.xticks(fontsize=10)\n",
    "    # plt.yticks(fontsize=10)\n",
    "\n",
    "    correlation_matrix = np.corrcoef(x_data, y_data)\n",
    "    correlation_xy = correlation_matrix[0, 1]\n",
    "    r_squared = correlation_xy ** 2\n",
    "    bias = np.mean(y_data) - np.mean(x_data)\n",
    "    rbias = bias/np.mean(x_data)\n",
    "    ssize = len(x_data)\n",
    "    rmse = np.sqrt(np.mean((y_data - x_data) ** 2))\n",
    "\n",
    "    # stats_dict = {\n",
    "    #     'Counts': str(\"%.0f\" % ssize),\n",
    "    #     'Absolute Bias': str(\"%.3f\" % bias),\n",
    "    #     'Relative Bias': str(\"%.3f\" % rbias),\n",
    "    #     'RMSE': str(\"%.3f\" % rmse),\n",
    "    #     # 'R': str(\"%.3f\" % correlation_xy),\n",
    "    #     'R\\u00b2': str(\"%.3f\" % r_squared),\n",
    "    # }\n",
    "    # x_pos = 0.012\n",
    "    # y_pos = 1.02\n",
    "    # for key in stats_dict.keys():\n",
    "    #     stat_str = '%s= %s' %(key, stats_dict[key])\n",
    "    #     y_pos = y_pos - 0.05\n",
    "    #     ax.annotate(stat_str, (x_pos, y_pos), ha='left', va='center', \n",
    "    #                 fontsize=12, xycoords='axes fraction')\n",
    "\n",
    "    cb = plt.colorbar(cn, orientation='horizontal', fraction=0.03, aspect=30, \n",
    "                      pad=0.12, extend='max', ticks=cnlvs[::50])\n",
    "    cb.ax.minorticks_off()\n",
    "    cb.ax.ticklabel_format(axis='x', style='sci', scilimits=(0, 0),\n",
    "                           useMathText=True)\n",
    "\n",
    "    if save:\n",
    "        plt.savefig(savename, dpi=quality)\n",
    "    plt.close(fig)\n",
    "    return"
   ]
  },
  {
   "cell_type": "code",
   "execution_count": 12,
   "id": "4eb9339e-a3cf-4f1b-8e5b-e22756aa8758",
   "metadata": {},
   "outputs": [],
   "source": [
    "def plt_all_omb_hist(key, dataframe, save, savename, **kwargs):\n",
    "    ax = dataframe.plot.line()\n",
    "    yval = [round(y, 1) for y in ax.get_yticks()]\n",
    "    ylb = [round(y*binwidth*100., 1) for y in yval]\n",
    "    ax.set_xlabel(f'{plotvar} (Obs minus {bkg})')\n",
    "    ax.set_ylabel('Frequency [%]')\n",
    "    ax.set_yticks(yval)\n",
    "    ax.set_yticklabels(ylb)\n",
    "    ax.grid(axis='x')\n",
    "    ax.set_ylim(bottom=0.)\n",
    "    ax.set_xlim(-1, 1)\n",
    "    ax.set_title(key, loc='left')\n",
    "    if save:\n",
    "        plt.savefig(savename, dpi=quality)\n",
    "    plt.close()\n",
    "    return"
   ]
  },
  {
   "cell_type": "code",
   "execution_count": 13,
   "id": "88180625-3770-4135-8766-f1442eb4a679",
   "metadata": {},
   "outputs": [],
   "source": [
    "# for obsname in obs_name_list:\n",
    "def process_dates(cdate, obsname):\n",
    "    cdate_str = cdate.strftime('%Y%m%d%H')\n",
    "    hofxfile = f'{hofx_path}/{obsname}/hofx.{obsname}.{cdate_str}.nc4'\n",
    "    metads = xa.open_dataset(hofxfile, group='MetaData')\n",
    "    if 'aeronet' in obsname:\n",
    "        ch_wvl = aeronet_aod_wvl\n",
    "    elif 'pace' in obsname:\n",
    "        ch_wvl = metads.sensorCentralWavelength.values * 1e3\n",
    "    else:\n",
    "        ch_wvl = [550.]\n",
    "\n",
    "    obsvds = xa.open_dataset(hofxfile, group='ObsValue').assign_coords(Channel=ch_wvl)\n",
    "    hofxds = xa.open_dataset(hofxfile, group='hofx').assign_coords(Channel=ch_wvl)\n",
    "\n",
    "    tmpdf = pd.DataFrame()\n",
    "    tmpdf['lat'] = metads['latitude']\n",
    "    tmpdf['lon'] = metads['longitude']\n",
    "    tmpdf['obs'] = obsvds['aerosolOpticalDepth'].sel(Channel=plot_wvl)\n",
    "    tmpdf['hfx'] = hofxds['aerosolOpticalDepth'].sel(Channel=plot_wvl)\n",
    "    tmpdf['omb'] = tmpdf['obs'] - tmpdf['hfx']\n",
    "\n",
    "    if 'aeronet' not in obsname:\n",
    "        tmpdf['lsf'] = metads['surfaceQualifier']\n",
    "\n",
    "    if pltcyc:\n",
    "        for var in ['obs', 'omb', 'hfx']:\n",
    "            titlestr = f'{vardict[var]} of {obsname} at {cdate_str}'\n",
    "            sc2dplt = f'{cycs_savedir}/{var}/{obsname}/{var}2d.{obsname}.{cdate_str}.png'\n",
    "            plt_glb_scatter(tmpdf, var, titlestr, fsave, sc2dplt)\n",
    "\n",
    "    return tmpdf"
   ]
  },
  {
   "cell_type": "code",
   "execution_count": 14,
   "id": "0d9e8e13-cd7f-4c3a-acca-7566df9f4709",
   "metadata": {},
   "outputs": [
    {
     "name": "stdout",
     "output_type": "stream",
     "text": [
      "Processing aeronet_l15_aod\n"
     ]
    },
    {
     "name": "stderr",
     "output_type": "stream",
     "text": [
      "100%|██████████| 120/120 [00:03<00:00, 35.18it/s]\n"
     ]
    },
    {
     "name": "stdout",
     "output_type": "stream",
     "text": [
      "/glade/work/swei/projects/mmm.pace_aod/plots/stats//all.hist2d.aeronet_l15_aod.500nm.2024110100_2024113018.png\n",
      "aeronet_l15_aod finished\n",
      "Process Finished\n"
     ]
    }
   ],
   "source": [
    "for obs in obs_name_list:\n",
    "    print(f'Processing {obs}')\n",
    "    results = Parallel(n_jobs=-1)(delayed(process_dates)(cdate, obs) for cdate in tqdm(dates))\n",
    "    alldf = pd.concat(results, ignore_index=True)\n",
    "    msking_dict = {\n",
    "        'all': ~alldf['obs'].isnull(),\n",
    "    }\n",
    "    if 'aeronet' not in obs:\n",
    "        msking_dict['water'] = (alldf['lsf'] == 0),\n",
    "        msking_dict['land'] = (alldf['lsf'] != 0),\n",
    "\n",
    "    # stratified based on obs aod\n",
    "    if pltstats:\n",
    "        for key, mask in msking_dict.items():\n",
    "            pltdf = alldf.loc[mask].reset_index(drop=True)\n",
    "            pltdf['obs_bin'] = pd.cut(pltdf['obs'], bins=bins, labels=bin_lb, right=True)\n",
    "\n",
    "            # obs_pdf = f'{stat_savedir}/{key}.obs_pdf.{obsname}.{sdate}_{edate}.png'\n",
    "            # plt_obs_hist(df, obsname, fsave, obs_pdf)\n",
    "\n",
    "            # omb_pdf = f'{stat_savedir}/{key}.omb_pdf.{obsname}.{sdate}_{edate}.png'\n",
    "            # plt_omb_hist(df, obsname, fsave, omb_pdf)\n",
    "\n",
    "            # boxplt = f'{stat_savedir}/{key}.omb_box.{obsname}.{sdate}_{edate}.png'\n",
    "            # plt_box(df, fsave, boxplt)\n",
    "\n",
    "            hist2dplt = f'{stat_savedir}/{key}.hist2d.{obs}.{plot_wvl}nm.{sdate}_{edate}.png'\n",
    "            plt_hist2d(pltdf, 'obs', 'hfx', h2d_axis, fsave, hist2dplt,\n",
    "                       xlb=f'{data_name_dict[obs]} {plot_wvl}nm',\n",
    "                       ylb=f'{shortvar_dict[plotvar]} {plot_wvl}nm based on {bkg}')\n",
    "            print(hist2dplt)\n",
    "\n",
    "    if all_omb_stats:\n",
    "        out_dict = {}\n",
    "        # Calculate histogram and return the dataset for merge\n",
    "        for key, mask in tqdm(msking_dict.items()):\n",
    "            # column_name = f'{obsname}_{key}'\n",
    "            columns = pd.MultiIndex.from_tuples([(key, obs)])\n",
    "            out_dict[(key, obs)], bin_edges = np.histogram(\n",
    "                pltdf['omb'].loc[mask].reset_index(drop=True),\n",
    "                density=True,\n",
    "                bins=zero_c_bins,\n",
    "            )\n",
    "\n",
    "    print(f'{obs} finished')\n",
    "print('Process Finished')"
   ]
  },
  {
   "cell_type": "code",
   "execution_count": 16,
   "id": "cea4a832-db87-42b1-b654-64dbc694c2ff",
   "metadata": {},
   "outputs": [],
   "source": [
    "if all_omb_stats:\n",
    "    flat_dict = {k: v for d in ombhists for k, v in d.items()}\n",
    "    df = pd.DataFrame(flat_dict)\n",
    "    df.index = zero_c_bin_lb"
   ]
  },
  {
   "cell_type": "code",
   "execution_count": 53,
   "id": "099f19b2-9d0f-4c72-b265-9f2c87093acf",
   "metadata": {},
   "outputs": [],
   "source": [
    "for key in ['all', 'water', 'land']:\n",
    "    ombhistplt = f'{stat_savedir}/allombhist.{key}.{sdate}_{edate}.png'\n",
    "    plt_all_omb_hist(key.capitalize(), df[key], fsave, ombhistplt)"
   ]
  },
  {
   "cell_type": "code",
   "execution_count": 47,
   "id": "216dbb8a-b3ec-4af0-8262-f0e8e6886315",
   "metadata": {},
   "outputs": [
    {
     "data": {
      "text/plain": [
       "'/glade/work/swei/projects/mmm.pace_aod/plots/stats'"
      ]
     },
     "execution_count": 47,
     "metadata": {},
     "output_type": "execute_result"
    }
   ],
   "source": [
    "stat_savedir"
   ]
  },
  {
   "cell_type": "code",
   "execution_count": 49,
   "id": "6c6a283d-109d-49ae-bb9f-7897e91ba588",
   "metadata": {},
   "outputs": [],
   "source": [
    "a = 'all'"
   ]
  },
  {
   "cell_type": "code",
   "execution_count": 51,
   "id": "79b51ef9-06c7-474f-9803-e265914bee13",
   "metadata": {},
   "outputs": [
    {
     "data": {
      "text/plain": [
       "'All'"
      ]
     },
     "execution_count": 51,
     "metadata": {},
     "output_type": "execute_result"
    }
   ],
   "source": [
    "a.capitalize()"
   ]
  },
  {
   "cell_type": "code",
   "execution_count": null,
   "id": "e64e2496-768a-43ce-a1dc-561ba7f637c2",
   "metadata": {},
   "outputs": [],
   "source": []
  }
 ],
 "metadata": {
  "kernelspec": {
   "display_name": "NPL 2025a",
   "language": "python",
   "name": "npl-2025a"
  },
  "language_info": {
   "codemirror_mode": {
    "name": "ipython",
    "version": 3
   },
   "file_extension": ".py",
   "mimetype": "text/x-python",
   "name": "python",
   "nbconvert_exporter": "python",
   "pygments_lexer": "ipython3",
   "version": "3.12.8"
  }
 },
 "nbformat": 4,
 "nbformat_minor": 5
}
