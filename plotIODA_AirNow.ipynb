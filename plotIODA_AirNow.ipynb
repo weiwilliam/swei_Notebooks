{
 "cells": [
  {
   "cell_type": "code",
   "execution_count": 1,
   "id": "692e8e49-d385-45db-83ae-5bc4ee66912c",
   "metadata": {},
   "outputs": [],
   "source": [
    "import os\n",
    "from time import sleep\n",
    "import xarray as xr\n",
    "import pandas as pd\n",
    "from tqdm.notebook import tqdm\n",
    "from datetime import timedelta\n",
    "import matplotlib as mpl\n",
    "import matplotlib.pyplot as plt\n",
    "import matplotlib.path as mpath\n",
    "import cartopy.crs as ccrs\n",
    "import cartopy.feature as cft\n",
    "from cartopy.mpl.ticker import LongitudeFormatter, LatitudeFormatter\n",
    "from pylibs.plot_utils import set_size\n",
    "from pylibs.setuparea import setarea\n",
    "from pylibs.utils import get_dates"
   ]
  },
  {
   "cell_type": "code",
   "execution_count": 2,
   "id": "e8cdc406-b4b5-41b4-8a4b-9c6856918cac",
   "metadata": {},
   "outputs": [],
   "source": [
    "tlsize = 12\n",
    "txsize = 12\n",
    "mpl.rc('axes', titlesize=tlsize, labelsize=txsize)\n",
    "mpl.rc('xtick', labelsize=txsize)\n",
    "mpl.rc('ytick', labelsize=txsize)\n",
    "mpl.rc('legend', fontsize='small')\n",
    "axe_w = 4; axe_h = 4; plot_quality = 600"
   ]
  },
  {
   "cell_type": "code",
   "execution_count": 3,
   "id": "04896f98-4976-4781-bbf2-a6352723e9f7",
   "metadata": {},
   "outputs": [],
   "source": [
    "srcpath = '/glade/work/swei/Git/JEDI-METplus'\n",
    "area = 'wxaq'\n",
    "minlon = -81.; maxlon = -70; minlat = 39.8; maxlat = 46.\n",
    "\n",
    "plot_product = 'wrfchem_evaluate'\n",
    "obs_name = 'airnow-wxaq'\n",
    "\n",
    "vfhr_range = range(1, 25)\n",
    "init_sdate = 2024082200\n",
    "init_edate = 2024083100\n",
    "hint = 24\n",
    "init_dates = get_dates(init_sdate, init_edate, hint)\n",
    "\n",
    "unit_str = 'mol m$^{-2}$'\n",
    "\n",
    "hofx_path_tmpl = os.path.join(srcpath, 'output', plot_product, 'hofx', 'f{fhr:02d}', obs_name)\n",
    "plts_path = os.path.join(srcpath, 'output', plot_product, 'plots', '2dmap', obs_name)\n",
    "\n",
    "if not os.path.exists(plts_path):\n",
    "    os.makedirs(plts_path)\n",
    "\n",
    "# Setup projection\n",
    "if area == 'wxaq':\n",
    "    proj = ccrs.LambertConformal(central_longitude=-97.0,\n",
    "                                 central_latitude=39.0,\n",
    "                                 standard_parallels=[30., 60.])\n",
    "if area == 'glb':\n",
    "    proj = ccrs.PlateCarree()"
   ]
  },
  {
   "cell_type": "code",
   "execution_count": 4,
   "id": "6ec6a9fe-722f-4e4a-a87f-a4fcc7a890af",
   "metadata": {},
   "outputs": [
    {
     "data": {
      "application/vnd.jupyter.widget-view+json": {
       "model_id": "699fba75b2ad4624a03e63c1d3227b96",
       "version_major": 2,
       "version_minor": 0
      },
      "text/plain": [
       "Starting:   0%|          | 0/10 [00:00<?, ?it/s]"
      ]
     },
     "metadata": {},
     "output_type": "display_data"
    }
   ],
   "source": [
    "df = pd.DataFrame()\n",
    "pbardates = tqdm(init_dates, desc=f'Starting')\n",
    "for idate in pbardates:\n",
    "    pbardates.set_description(f'Processing {idate}')\n",
    "    for fhr in vfhr_range:\n",
    "        hofx_path = hofx_path_tmpl.format(fhr=fhr)\n",
    "        if not os.path.exists(hofx_path):\n",
    "            raise Exception(f'HofX folder: {hofx_path} is not available')\n",
    "        cdate = idate + timedelta(hours=fhr)\n",
    "        plot_date = cdate.strftime('%Y%m%d%H')\n",
    "        hofx_file = f'hofx.{obs_name}.{plot_date}.nc4'\n",
    "        in_hofx = os.path.join(hofx_path, hofx_file)\n",
    "        if not os.path.exists(in_hofx):\n",
    "            print(f'WARNING: Skip {plot_date}, {hofx_file} is not available')\n",
    "            continue\n",
    "\n",
    "        meta_ds = xr.open_dataset(in_hofx, group='MetaData')\n",
    "        obsv_ds = xr.open_dataset(in_hofx, group='ObsValue')\n",
    "        tmpdf = meta_ds.to_dataframe()\n",
    "        tmpobsdf = obsv_ds.to_dataframe()\n",
    "        tmpdf = pd.concat((tmpdf, tmpobsdf), axis=1)\n",
    "        \n",
    "        df = pd.concat((df, tmpdf))"
   ]
  },
  {
   "cell_type": "code",
   "execution_count": 5,
   "id": "cd08de92-2247-409b-b2da-f2f76f80e6df",
   "metadata": {},
   "outputs": [],
   "source": [
    "ozone_df = df[['latitude', 'longitude', 'stationIdentification', 'ozoneInsitu']]\n",
    "pm2p5_df = df[['latitude', 'longitude', 'stationIdentification', 'particulatematter2p5Insitu']]\n",
    "# no2_df = df[['latitude', 'longitude', 'stationIdentification', 'nitrogendioxideInsitu']]"
   ]
  },
  {
   "cell_type": "code",
   "execution_count": 24,
   "id": "f87c8c99-f1d4-4c90-8805-9fc16a558f4c",
   "metadata": {},
   "outputs": [],
   "source": [
    "ploto3_df = ozone_df.groupby(['stationIdentification']).agg(func='mean').dropna(subset=['ozoneInsitu'])\n",
    "plotpm_df = pm2p5_df.groupby(['stationIdentification']).agg(func='mean').dropna(subset=['particulatematter2p5Insitu'])\n",
    "# plotno2df = no2_df.groupby(['stationIdentification']).agg(func='mean').dropna(subset=['nitrogendioxideInsitu'])\n",
    "overlap_df = pd.merge(ploto3_df, plotpm_df, on=['longitude', 'latitude'])"
   ]
  },
  {
   "cell_type": "code",
   "execution_count": 25,
   "id": "e36ab764-1610-4270-a10b-d35311b39e67",
   "metadata": {},
   "outputs": [],
   "source": [
    "o3_locations = ploto3_df[['longitude', 'latitude']].drop_duplicates()\n",
    "pm_locations = plotpm_df[['longitude', 'latitude']].drop_duplicates()\n",
    "# overlap_df = pd.merge(o3_locations, pm_locations, on=['longitude', 'latitude'], how='inner', indicator=True)\n",
    "# overlapping = overlap_df[['longitude', 'latitude']]\n",
    "# o3_only_df = o3_locations.merge(pm_locations, on=['longitude', 'latitude'], how='left', indicator=True).query('_merge == \"left_only\"')[['longitude', 'latitude']]\n",
    "# pm_only_df = pm_locations.merge(o3_locations, on=['longitude', 'latitude'], how='left', indicator=True).query('_merge == \"left_only\"')[['longitude', 'latitude']]"
   ]
  },
  {
   "cell_type": "code",
   "execution_count": 48,
   "id": "6837a43c-a65d-4b4c-a6ab-6f75f35f7e54",
   "metadata": {},
   "outputs": [
    {
     "name": "stderr",
     "output_type": "stream",
     "text": [
      "/glade/u/apps/opt/conda/envs/npl-2025b/lib/python3.12/site-packages/cartopy/mpl/feature_artist.py:144: UserWarning: facecolor will have no effect as it has been defined as \"never\".\n",
      "  warnings.warn('facecolor will have no effect as it has been '\n"
     ]
    }
   ],
   "source": [
    "fig = plt.figure()\n",
    "ax = plt.subplot(projection=proj)\n",
    "set_size(axe_w, axe_h, t=0.96, l=0.14, b=0.1, r=0.86)\n",
    "ax.set_extent((minlon, maxlon, minlat, maxlat), crs=ccrs.PlateCarree())\n",
    "gl = ax.gridlines(draw_labels=True, dms=True, x_inline=False, y_inline=False)\n",
    "gl.xlines = False\n",
    "gl.ylines = False\n",
    "gl.xlabel_style = {'size': txsize - 1}\n",
    "gl.ylabel_style = {'size': txsize - 1}\n",
    "gl.right_labels = False\n",
    "gl.top_labels = False\n",
    "ax.add_feature(cft.BORDERS.with_scale('10m'), color='grey', linestyle='--', linewidth=0.5)\n",
    "ax.add_feature(cft.STATES.with_scale('10m'), edgecolor='grey', linewidth=0.5)\n",
    "ax.add_feature(cft.LAKES.with_scale('10m'), facecolor='None', edgecolor='grey', linewidth=0.5)\n",
    "\n",
    "ax.scatter(o3_locations['longitude'], o3_locations['latitude'], c='none', s=50,\n",
    "           edgecolor='k', linewidth=1, transform=ccrs.PlateCarree(), zorder=2, label='$\\mathrm{O}_3$')\n",
    "ax.scatter(pm_locations['longitude'], pm_locations['latitude'], c='b', s=15,\n",
    "           edgecolor='none', transform=ccrs.PlateCarree(), zorder=3, label='$\\mathrm{PM}_{2.5}$')\n",
    "\n",
    "ax.legend(loc='lower right')\n",
    "\n",
    "plotname = f'site_maps.{init_sdate}_{init_edate}.png'\n",
    "outname = os.path.join(plts_path, plotname)\n",
    "# plt.tight_layout()\n",
    "fig.savefig(outname, dpi=plot_quality)\n",
    "plt.close()"
   ]
  },
  {
   "cell_type": "code",
   "execution_count": 35,
   "id": "4a6d5463-2dfb-403c-bb41-2beb0048d26f",
   "metadata": {},
   "outputs": [
    {
     "data": {
      "text/plain": [
       "'/glade/work/swei/Git/JEDI-METplus/output/wrfchem_evaluate/plots/2dmap/airnow-wxaq/site_maps.2024082200_2024083100.png'"
      ]
     },
     "execution_count": 35,
     "metadata": {},
     "output_type": "execute_result"
    }
   ],
   "source": [
    "outname"
   ]
  },
  {
   "cell_type": "code",
   "execution_count": null,
   "id": "f0107ebc-383a-4eaf-a7b6-f86951b4f47e",
   "metadata": {},
   "outputs": [],
   "source": []
  }
 ],
 "metadata": {
  "kernelspec": {
   "display_name": "NPL 2025b",
   "language": "python",
   "name": "npl-2025b"
  },
  "language_info": {
   "codemirror_mode": {
    "name": "ipython",
    "version": 3
   },
   "file_extension": ".py",
   "mimetype": "text/x-python",
   "name": "python",
   "nbconvert_exporter": "python",
   "pygments_lexer": "ipython3",
   "version": "3.12.11"
  }
 },
 "nbformat": 4,
 "nbformat_minor": 5
}
