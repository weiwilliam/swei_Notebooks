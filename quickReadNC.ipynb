{
 "cells": [
  {
   "cell_type": "code",
   "execution_count": 1,
   "id": "45521eab-ad33-41ad-8f44-391244b13bee",
   "metadata": {},
   "outputs": [],
   "source": [
    "import netCDF4 as nc\n",
    "import numpy as np\n",
    "from datetime import datetime, timedelta, timezone\n",
    "# import cartopy.crs as ccrs\n",
    "# import matplotlib.pyplot as plt\n",
    "# from pylibs.plot_utils import set_size, setupax_2dmap"
   ]
  },
  {
   "cell_type": "code",
   "execution_count": 2,
   "id": "0d2d2f86-6322-4cf7-a1b8-26fab1230094",
   "metadata": {},
   "outputs": [],
   "source": [
    "afile = '/glade/derecho/scratch/swei/data_process_tmp/pace_spexone/PACE_SPEXONE.20241105T071541.L2.AER_RTAPLAND.V3_0.NRT.nc'\n",
    "grp = 'geophysical_data'\n",
    "var = 'aot'"
   ]
  },
  {
   "cell_type": "code",
   "execution_count": 3,
   "id": "27b028fa-8aa7-49cf-b03b-9ffe14c55073",
   "metadata": {},
   "outputs": [],
   "source": [
    "ncda = nc.Dataset(afile, 'r')\n",
    "a_val = ncda.groups[grp].variables[var][:, :, 7].ravel()"
   ]
  },
  {
   "cell_type": "code",
   "execution_count": 48,
   "id": "ac18a36f-6da2-46fb-9de8-e70c80933273",
   "metadata": {},
   "outputs": [],
   "source": [
    "a_lat = ncda.groups['geolocation_data'].variables['latitude'][:].ravel()\n",
    "a_lon = ncda.groups['geolocation_data'].variables['longitude'][:].ravel()\n",
    "a_date = ncda.groups['geolocation_data'].variables['utc_date'][:].ravel()\n",
    "a_frac = ncda.groups['geolocation_data'].variables['fracday'][:].ravel()"
   ]
  },
  {
   "cell_type": "code",
   "execution_count": 5,
   "id": "4871ed72-9ead-4f06-aa54-312e892f211c",
   "metadata": {},
   "outputs": [
    {
     "data": {
      "text/plain": [
       "40.58620689655172"
      ]
     },
     "execution_count": 5,
     "metadata": {},
     "output_type": "execute_result"
    }
   ],
   "source": [
    "a_val.argmax()/29"
   ]
  },
  {
   "cell_type": "code",
   "execution_count": 8,
   "id": "e9fdd82c-1c87-4039-8669-d5b7c923c1d0",
   "metadata": {},
   "outputs": [
    {
     "data": {
      "text/plain": [
       "{'number_of_valid_pixels': \"<class 'netCDF4.Dimension'>\": name = 'number_of_valid_pixels', size = 3297,\n",
       " 'number_of_lines': \"<class 'netCDF4.Dimension'>\": name = 'number_of_lines', size = 395,\n",
       " 'pixels_per_line': \"<class 'netCDF4.Dimension'>\": name = 'pixels_per_line', size = 29,\n",
       " 'wavelength3d': \"<class 'netCDF4.Dimension'>\": name = 'wavelength3d', size = 18,\n",
       " 'wavelength': \"<class 'netCDF4.Dimension'>\": name = 'wavelength', size = 34}"
      ]
     },
     "execution_count": 8,
     "metadata": {},
     "output_type": "execute_result"
    }
   ],
   "source": [
    "ncda.dimensions"
   ]
  },
  {
   "cell_type": "code",
   "execution_count": null,
   "id": "224d60f6-3ad1-4000-af23-3c0cc022b441",
   "metadata": {},
   "outputs": [],
   "source": []
  }
 ],
 "metadata": {
  "kernelspec": {
   "display_name": "NPL 2025a",
   "language": "python",
   "name": "npl-2025a"
  },
  "language_info": {
   "codemirror_mode": {
    "name": "ipython",
    "version": 3
   },
   "file_extension": ".py",
   "mimetype": "text/x-python",
   "name": "python",
   "nbconvert_exporter": "python",
   "pygments_lexer": "ipython3",
   "version": "3.12.8"
  }
 },
 "nbformat": 4,
 "nbformat_minor": 5
}
