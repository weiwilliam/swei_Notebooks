{
 "cells": [
  {
   "cell_type": "code",
   "execution_count": 9,
   "id": "f0b0ccde-d66d-4ef0-8f54-e7bf0b992a00",
   "metadata": {},
   "outputs": [],
   "source": [
    "import numpy as np\n",
    "from pylibs.utils import setup_cmap\n",
    "from sklearn import preprocessing as sk_prep"
   ]
  },
  {
   "cell_type": "code",
   "execution_count": 18,
   "id": "bc7cf499-f095-4c32-9312-f34eedc59210",
   "metadata": {},
   "outputs": [],
   "source": [
    "cnlvs = [0., 0.05, 0.1, 0.15, 0.2, 0.4, 0.6, 0.8, 1.0, 1.2, 1.5, 2.5]\n",
    "cnlvs_norm = [x/(cnlvs[-1]-cnlvs[0]) for x in cnlvs]\n",
    "clridx = [2, 4, 5, 7, 8, 9, 10, 12, 14, 15, 16, 17, 18]\n",
    "tuplelst, clrmap = setup_cmap('precip3_16lev', cnlvs_norm, clridx)"
   ]
  },
  {
   "cell_type": "code",
   "execution_count": 19,
   "id": "292c8a47-1621-4145-8b89-814f8e9d5ec8",
   "metadata": {},
   "outputs": [
    {
     "data": {
      "text/plain": [
       "[(0.0, (1.0, 1.0, 1.0)),\n",
       " (0.02, (0.7098, 0.7882, 1.0)),\n",
       " (0.04, (0.5569, 0.698, 1.0)),\n",
       " (0.06, (0.3882, 0.4392, 0.9686)),\n",
       " (0.08, (0.0, 0.3882, 1.0)),\n",
       " (0.16, (0.0, 0.5882, 0.5882)),\n",
       " (0.24, (0.0, 0.7765, 0.2)),\n",
       " (0.32, (0.5882, 1.0, 0.0)),\n",
       " (0.4, (1.0, 1.0, 0.0)),\n",
       " (0.48, (1.0, 0.7765, 0.0)),\n",
       " (0.6, (1.0, 0.6275, 0.0)),\n",
       " (1.0, (1.0, 0.4863, 0.0))]"
      ]
     },
     "execution_count": 19,
     "metadata": {},
     "output_type": "execute_result"
    }
   ],
   "source": [
    "tuplelst"
   ]
  },
  {
   "cell_type": "code",
   "execution_count": 15,
   "id": "4f666507-09ba-4f90-9f29-68a44de0434d",
   "metadata": {},
   "outputs": [
    {
     "data": {
      "text/plain": [
       "[0.0, 0.02, 0.04, 0.06, 0.08, 0.16, 0.24, 0.32, 0.4, 0.48, 0.6, 1.0]"
      ]
     },
     "execution_count": 15,
     "metadata": {},
     "output_type": "execute_result"
    }
   ],
   "source": [
    "cnlvs_normalized"
   ]
  },
  {
   "cell_type": "code",
   "execution_count": null,
   "id": "59cde533-747c-4865-8236-479944557ea4",
   "metadata": {},
   "outputs": [],
   "source": []
  }
 ],
 "metadata": {
  "kernelspec": {
   "display_name": "NPL 2025a",
   "language": "python",
   "name": "npl-2025a"
  },
  "language_info": {
   "codemirror_mode": {
    "name": "ipython",
    "version": 3
   },
   "file_extension": ".py",
   "mimetype": "text/x-python",
   "name": "python",
   "nbconvert_exporter": "python",
   "pygments_lexer": "ipython3",
   "version": "3.12.8"
  }
 },
 "nbformat": 4,
 "nbformat_minor": 5
}
