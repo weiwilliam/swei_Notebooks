{
 "cells": [
  {
   "cell_type": "code",
   "execution_count": 40,
   "id": "fc193901-c561-4fb0-8f84-aef4390f51c6",
   "metadata": {},
   "outputs": [],
   "source": [
    "import os\n",
    "from tqdm import tqdm\n",
    "from joblib import Parallel, delayed\n",
    "import xarray as xa\n",
    "import numpy as np\n",
    "import pandas as pd\n",
    "from datetime import datetime, timedelta\n",
    "import matplotlib.pyplot as plt\n",
    "import matplotlib.colors as mpcrs\n",
    "from matplotlib import ticker\n",
    "from scipy.interpolate import CubicSpline\n",
    "from pylibs.utils import get_dates\n",
    "from pylibs.plot_utils import set_size\n",
    "from pylibs.custom_colormaps import white_gist_earth"
   ]
  },
  {
   "cell_type": "code",
   "execution_count": 34,
   "id": "4d6e5993-b7cd-4066-b4ad-e1464808faa2",
   "metadata": {},
   "outputs": [],
   "source": [
    "verbose = False\n",
    "fsave = True\n",
    "quality = 600"
   ]
  },
  {
   "cell_type": "code",
   "execution_count": 72,
   "id": "6fa18fc2-cc8e-4316-bd70-ec76a781f038",
   "metadata": {},
   "outputs": [],
   "source": [
    "sdate = 2024110100\n",
    "edate = 2024113018\n",
    "date_interval = 6\n",
    "window_length = 6\n",
    "dates = get_dates(sdate, edate, date_interval)\n",
    "bkg = 'MERRA-2'"
   ]
  },
  {
   "cell_type": "code",
   "execution_count": 52,
   "id": "0a997eeb-b713-4b02-a230-6caf48c2dfa8",
   "metadata": {},
   "outputs": [],
   "source": [
    "hofx_path = '/glade/work/swei/Git/JEDI-METplus/output/aodobs_merra2/hofx/f00'\n",
    "obs_name_list = [\n",
    "    'modis_terra_aod', 'modis_aqua_aod',\n",
    "    'pace_aod',\n",
    "    'viirs_aod_dt_npp', 'viirs_aod_dt_n20',\n",
    "    'viirs_aod_db_npp', 'viirs_aod_db_n20',\n",
    "]\n",
    "\n",
    "aeronet_aod_wvl = [340., 380., 440., 500., 675, 870., 1020., 1640.]\n",
    "select_aeronet_wvl = [440., 500., 675.]\n",
    "target_wvl = 550.\n",
    "\n",
    "# Control hist2d\n",
    "hist2d_in_log=1\n",
    "hist2d_xmax=5.0\n",
    "hist2d_xybins=30\n",
    "\n",
    "if hist2d_in_log:\n",
    "    h2d_axis = np.linspace(np.log(0.01), np.log(hist2d_xmax), hist2d_xybins+1)\n",
    "    h2d_axis = np.exp(h2d_axis)\n",
    "else:\n",
    "    h2d_axis = np.linspace(0.01, hist2d_xmax, hist2d_xybins+1)"
   ]
  },
  {
   "cell_type": "code",
   "execution_count": 74,
   "id": "efad0f76-b427-480d-8afc-f65a9cd6e421",
   "metadata": {},
   "outputs": [],
   "source": [
    "savedir = '/glade/work/swei/projects/mmm.pace_aod/plots'\n",
    "stat_savedir = f'{savedir}/stats/vs_AERONET'\n",
    "if not os.path.exists(stat_savedir):\n",
    "    os.makedirs(stat_savedir)"
   ]
  },
  {
   "cell_type": "code",
   "execution_count": 27,
   "id": "1cd6a7b8-17af-4c5e-a0cc-f13a782e44ed",
   "metadata": {},
   "outputs": [],
   "source": [
    "# Functions setup\n",
    "def cubicSplineInterpolate(row):\n",
    "    x = select_aeronet_wvl\n",
    "    y = row[['440nm', '500nm', '675nm']].values\n",
    "    spline = CubicSpline(x, y)\n",
    "    return float(spline(target_wvl))\n",
    "    \n",
    "def haversineDistance(row, reflat, reflon):\n",
    "    earthR = 6371.\n",
    "    lat1 = np.radians(row['latitude'])\n",
    "    lon1 = np.radians(row['longitude'])\n",
    "    lat2 = np.radians(reflat)\n",
    "    lon2 = np.radians(reflon)\n",
    "\n",
    "    dlat = lat2 - lat1\n",
    "    dlon = lon2 - lon1\n",
    "\n",
    "    a = np.sin(dlat / 2.0)**2 + np.cos(lat1) * np.cos(lat2) * np.sin(dlon / 2.0)**2\n",
    "    c = 2 * np.arcsin(np.sqrt(a))\n",
    "    return earthR * c\n",
    "\n",
    "def plt_hist2d(dataframe, x, y, axis, save, savename, **kwargs):\n",
    "    x_data = dataframe[x]\n",
    "    y_data = dataframe[y]\n",
    "    xlbstr = kwargs.get('xlb', x)\n",
    "    ylbstr = kwargs.get('ylb', y)\n",
    "    hist2d, x_edge, y_edge = np.histogram2d(x_data,\n",
    "                                            y_data,\n",
    "                                            bins=axis)\n",
    "\n",
    "    cnlvs = np.linspace(0, hist2d.max(), 256)\n",
    "    clrnorm = mpcrs.BoundaryNorm(cnlvs, len(cnlvs), extend='max')\n",
    "\n",
    "    fig, ax = plt.subplots()\n",
    "    set_size(5, 5, b=0.1, l=0.1, r=0.95, t=0.95)\n",
    "    cn = ax.contourf(axis[:-1], axis[:-1], hist2d.swapaxes(0,1),\n",
    "                     levels=cnlvs, norm=clrnorm, cmap=white_gist_earth,\n",
    "                     extend='max')\n",
    "    plt.plot(\n",
    "        [0.0, hist2d_xmax],\n",
    "        [0.0, hist2d_xmax],\n",
    "        color='gray',\n",
    "        linewidth=2,\n",
    "        linestyle='--'\n",
    "    )\n",
    "    plt.xlim(0.01, hist2d_xmax)\n",
    "    plt.ylim(0.01, hist2d_xmax)\n",
    "\n",
    "    if hist2d_in_log:\n",
    "        ax.set_xscale('log')\n",
    "        ax.set_yscale('log')\n",
    "    ax.set_aspect('equal')\n",
    "\n",
    "    plt.grid(alpha=0.5)\n",
    "    plt.xlabel(xlbstr, fontsize=11)\n",
    "    plt.ylabel(ylbstr, fontsize=11)\n",
    "    plt.xticks(fontsize=10)\n",
    "    plt.yticks(fontsize=10)\n",
    "\n",
    "    correlation_matrix = np.corrcoef(x_data, y_data)\n",
    "    correlation_xy = correlation_matrix[0, 1]\n",
    "    r_squared = correlation_xy ** 2\n",
    "    bias = np.mean(y_data) - np.mean(x_data)\n",
    "    rbias = bias/np.mean(x_data)\n",
    "    ssize = len(x_data)\n",
    "\n",
    "    stats_dict = {\n",
    "        'Counts': str(\"%.0f\" % ssize),\n",
    "        'Absolute Bias': str(\"%.3f\" % bias),\n",
    "        'Relative Bias': str(\"%.3f\" % rbias),\n",
    "        'R': str(\"%.3f\" % correlation_xy),\n",
    "        'R\\u00b2': str(\"%.3f\" % r_squared),\n",
    "    }\n",
    "    x_pos = 0.012\n",
    "    y_pos = 1.02\n",
    "    for key in stats_dict.keys():\n",
    "        stat_str = '%s= %s' %(key, stats_dict[key])\n",
    "        y_pos = y_pos - 0.05\n",
    "        ax.annotate(stat_str, (x_pos, y_pos), ha='left', va='center', \n",
    "                    fontsize=12, xycoords='axes fraction')\n",
    "\n",
    "    cb = plt.colorbar(cn, orientation='horizontal', fraction=0.03, aspect=30, \n",
    "                      pad=0.12, extend='max', ticks=cnlvs[::50])\n",
    "    cb.ax.minorticks_off()\n",
    "    cb.ax.ticklabel_format(axis='x', style='sci', scilimits=(0, 0),\n",
    "                           useMathText=True)\n",
    "\n",
    "    if save:\n",
    "        plt.savefig(savename, dpi=quality)\n",
    "    plt.close(fig)\n",
    "    return"
   ]
  },
  {
   "cell_type": "code",
   "execution_count": 16,
   "id": "e2a07407-7150-47a4-9cd5-800c29ad4b25",
   "metadata": {},
   "outputs": [],
   "source": [
    "def readAeronetIoda(iodafile):\n",
    "    metads = xa.open_dataset(iodafile, group='MetaData')\n",
    "    obsvds = xa.open_dataset(iodafile, group='ObsValue').assign_coords(Channel=aeronet_aod_wvl)\n",
    "    df = pd.DataFrame()\n",
    "    for wvl in select_aeronet_wvl:\n",
    "        col_name = f'{int(wvl)}nm'\n",
    "        df[col_name] = obsvds['aerosolOpticalDepth'].sel(Channel=wvl)\n",
    "    df['station'] = metads['stationIdentification']\n",
    "    df['dateTime'] = metads['dateTime']\n",
    "    df['latitude'] = metads['latitude']\n",
    "    df['longitude'] = metads['longitude']\n",
    "    df = df.dropna()\n",
    "    df['AOD550nm'] = df.apply(cubicSplineInterpolate, axis=1)\n",
    "    return df"
   ]
  },
  {
   "cell_type": "code",
   "execution_count": 64,
   "id": "1f2793b7-a877-4cee-9859-aec1ffe72306",
   "metadata": {},
   "outputs": [],
   "source": [
    "def readAodProdIoda(iodafile):\n",
    "    metads = xa.open_dataset(iodafile, group='MetaData')\n",
    "    if 'pace_aod' in iodafile:\n",
    "        tmpwvl = metads['sensorCentralWavelength'].values * 1e3\n",
    "    else:\n",
    "        tmpwvl = [550.]\n",
    "    obsvds = xa.open_dataset(iodafile, group='ObsValue').assign_coords(Channel=tmpwvl)\n",
    "    hofxds = xa.open_dataset(iodafile, group='hofx').assign_coords(Channel=tmpwvl)\n",
    "    df = pd.DataFrame()\n",
    "    df['dateTime'] = metads['dateTime']\n",
    "    df['latitude'] = metads['latitude']\n",
    "    df['longitude'] = metads['longitude']\n",
    "    df['AOD550nm'] = obsvds['aerosolOpticalDepth'].sel(Channel=target_wvl)\n",
    "    df['hofx550'] = hofxds['aerosolOpticalDepth'].sel(Channel=target_wvl)\n",
    "    return df"
   ]
  },
  {
   "cell_type": "code",
   "execution_count": 66,
   "id": "b5311d1f-f74c-491a-95cd-63dfb72590ac",
   "metadata": {},
   "outputs": [],
   "source": [
    "def process_dates(cdate, obsname):\n",
    "    # hrave_aeronet_df = pd.DataFrame()\n",
    "    collocated_aodprod_df = pd.DataFrame()\n",
    "    # for cdate in tqdm(dates):\n",
    "    cdate_str = datetime.strftime(cdate, \"%Y%m%d%H\")\n",
    "    win_beg = cdate - timedelta(hours=0.5*window_length)\n",
    "    win_end = cdate + timedelta(hours=0.5*window_length)\n",
    "    subdates = pd.date_range(start=win_beg, end=win_end, freq=timedelta(hours=1))\n",
    "    aeronet_file = f'{hofx_path}/aeronet_aod/hofx.aeronet_aod.{cdate_str}.nc4'\n",
    "    aeronet_obsdf = readAeronetIoda(aeronet_file)\n",
    "\n",
    "    aodprod_file = f'{hofx_path}/{obsname}/hofx.{obsname}.{cdate_str}.nc4'\n",
    "    aodprod_obsdf = readAodProdIoda(aodprod_file)\n",
    "\n",
    "    for d in range(window_length):\n",
    "        hr_beg = subdates[d]\n",
    "        hr_end = subdates[d+1]\n",
    "        mid_hr = hr_beg + 0.5 * (hr_end - hr_beg)\n",
    "        delta_hr = round((mid_hr - cdate).total_seconds()/3600., 1)\n",
    "        hr_filter = (aeronet_obsdf['dateTime'] >= hr_beg) & (aeronet_obsdf['dateTime'] <= hr_end)\n",
    "        hr_obsdf = aeronet_obsdf.loc[(hr_filter)]\n",
    "        hrave_df = hr_obsdf.groupby(hr_obsdf['station']).mean().reset_index()\n",
    "        hrave_df['dateTime'] = mid_hr\n",
    "        hrave_df['deltaHour'] = delta_hr\n",
    "\n",
    "        hr_prod_df = aodprod_obsdf[\n",
    "            (aodprod_obsdf['dateTime'] >= hr_beg) & \n",
    "            (aodprod_obsdf['dateTime'] <= hr_end)\n",
    "        ].reset_index(drop=True)\n",
    "    \n",
    "        # Create collocated dataframe\n",
    "        for ref in hrave_df.itertuples(index=True):\n",
    "            if verbose: print(f'{ref.dateTime} at {ref.station}')\n",
    "            ref_lat = ref.latitude\n",
    "            ref_lon = ref.longitude\n",
    "            gross_filter = (\n",
    "                (hr_prod_df['latitude'] < (ref_lat+1)) &\n",
    "                (hr_prod_df['latitude'] > (ref_lat-1)) &\n",
    "                (hr_prod_df['longitude'] < (ref_lon+1)) &\n",
    "                (hr_prod_df['longitude'] > (ref_lon-1))\n",
    "            )\n",
    "            if any(gross_filter):\n",
    "                tmpdf = hr_prod_df.loc[gross_filter].reset_index(drop=True)\n",
    "                tmpdf['distance'] = tmpdf.apply(haversineDistance, axis=1, args=(ref_lat, ref_lon))\n",
    "                tmpdf = tmpdf.loc[tmpdf['distance']<100].reset_index(drop=True)\n",
    "                tmpdf['station'] = ref.station\n",
    "                tmpdf['deltaHour'] = ref.deltaHour\n",
    "                tmpdf['AERONET AOD 550nm'] = ref.AOD550nm\n",
    "                tmpdf['obsname'] = obsname\n",
    "                collocated_aodprod_df = pd.concat((collocated_aodprod_df, tmpdf), axis=0)\n",
    "            else:\n",
    "                if verbose: print('No Data within +/- 1 degree of AERONET station')\n",
    "                continue\n",
    "    return collocated_aodprod_df"
   ]
  },
  {
   "cell_type": "code",
   "execution_count": 75,
   "id": "9e691cfa-8eb0-4f46-a7bd-9cc55f9a317f",
   "metadata": {},
   "outputs": [
    {
     "name": "stdout",
     "output_type": "stream",
     "text": [
      "Processing modis_terra_aod\n"
     ]
    },
    {
     "name": "stderr",
     "output_type": "stream",
     "text": [
      "100%|██████████| 120/120 [00:03<00:00, 30.65it/s]\n"
     ]
    },
    {
     "name": "stdout",
     "output_type": "stream",
     "text": [
      "Processing modis_aqua_aod\n"
     ]
    },
    {
     "name": "stderr",
     "output_type": "stream",
     "text": [
      "100%|██████████| 120/120 [00:00<00:00, 602.76it/s]\n"
     ]
    },
    {
     "name": "stdout",
     "output_type": "stream",
     "text": [
      "Processing pace_aod\n"
     ]
    },
    {
     "name": "stderr",
     "output_type": "stream",
     "text": [
      "100%|██████████| 120/120 [00:00<00:00, 139.87it/s]\n"
     ]
    },
    {
     "name": "stdout",
     "output_type": "stream",
     "text": [
      "Processing viirs_aod_dt_npp\n"
     ]
    },
    {
     "name": "stderr",
     "output_type": "stream",
     "text": [
      "100%|██████████| 120/120 [00:01<00:00, 106.99it/s]\n"
     ]
    },
    {
     "name": "stdout",
     "output_type": "stream",
     "text": [
      "Processing viirs_aod_dt_n20\n"
     ]
    },
    {
     "name": "stderr",
     "output_type": "stream",
     "text": [
      "100%|██████████| 120/120 [00:01<00:00, 93.92it/s]\n"
     ]
    },
    {
     "name": "stdout",
     "output_type": "stream",
     "text": [
      "Processing viirs_aod_db_npp\n"
     ]
    },
    {
     "name": "stderr",
     "output_type": "stream",
     "text": [
      "100%|██████████| 120/120 [00:00<00:00, 121.08it/s]\n"
     ]
    },
    {
     "name": "stdout",
     "output_type": "stream",
     "text": [
      "Processing viirs_aod_db_n20\n"
     ]
    },
    {
     "name": "stderr",
     "output_type": "stream",
     "text": [
      "100%|██████████| 120/120 [00:01<00:00, 109.97it/s]\n"
     ]
    },
    {
     "name": "stdout",
     "output_type": "stream",
     "text": [
      "Process Finished\n"
     ]
    }
   ],
   "source": [
    "all_df = pd.DataFrame()\n",
    "for obs in obs_name_list:\n",
    "    print(f'Processing {obs}')\n",
    "    results = Parallel(n_jobs=-1)(delayed(process_dates)(cdate, obs) for cdate in tqdm(dates))\n",
    "    tmpdf = pd.concat(results, ignore_index=True)\n",
    "    hist2dplt = f'{stat_savedir}/obs_vs_AERONET.hist2d.{obs}.{sdate}_{edate}.png'\n",
    "    plt_hist2d(tmpdf, 'AERONET AOD 550nm', 'AOD550nm', h2d_axis, fsave, hist2dplt,\n",
    "               xlb='AERONET AOD 550nm',\n",
    "               ylb=f'{obs} AOD 550nm')\n",
    "    hist2dplt = f'{stat_savedir}/hfx_vs_AERONET.hist2d.{obs}.{sdate}_{edate}.png'\n",
    "    plt_hist2d(tmpdf, 'AERONET AOD 550nm', 'hofx550', h2d_axis, fsave, hist2dplt,\n",
    "               xlb='AERONET AOD 550nm',\n",
    "               ylb=f'{obs} HofX 550nm based on {bkg}')\n",
    "    for deltahr in [-2.5, -1.5, -0.5, 0.5, 1.5, 2.5]:\n",
    "        sub_hr_df = tmpdf.loc[tmpdf['deltaHour'] == deltahr].reset_index(drop=True)\n",
    "        hist2dplt = f'{stat_savedir}/hfx{deltahr}_vs_AERONET.hist2d.{obs}.{sdate}_{edate}.png'\n",
    "        plt_hist2d(sub_hr_df, 'AERONET AOD 550nm', 'hofx550', h2d_axis, fsave, hist2dplt,\n",
    "                   xlb='AERONET AOD 550nm',\n",
    "                   ylb=f'{obs} {deltahr}H HofX 550nm based on {bkg}')\n",
    "    all_df = pd.concat((all_df, tmpdf), axis=0)\n",
    "print('Process Finished')"
   ]
  },
  {
   "cell_type": "code",
   "execution_count": 69,
   "id": "95aedb0a-8c43-443d-a7b7-326b21242122",
   "metadata": {},
   "outputs": [
    {
     "data": {
      "text/plain": [
       "0         1.5\n",
       "1         1.5\n",
       "2         1.5\n",
       "3         1.5\n",
       "4         1.5\n",
       "         ... \n",
       "288817    2.5\n",
       "288818    2.5\n",
       "288819    2.5\n",
       "288820    2.5\n",
       "288821    2.5\n",
       "Name: deltaHour, Length: 1306447, dtype: float64"
      ]
     },
     "execution_count": 69,
     "metadata": {},
     "output_type": "execute_result"
    }
   ],
   "source": [
    "all_df['deltaHour']"
   ]
  },
  {
   "cell_type": "code",
   "execution_count": 70,
   "id": "0f912624-c8c8-4cac-bc27-5af853c49610",
   "metadata": {},
   "outputs": [
    {
     "name": "stdout",
     "output_type": "stream",
     "text": [
      "hfx-2.5\n",
      "hfx-1.5\n",
      "hfx-0.5\n",
      "hfx0.5\n",
      "hfx1.5\n",
      "hfx2.5\n"
     ]
    }
   ],
   "source": [
    "for deltahr in [-2.5, -1.5, -0.5, 0.5, 1.5, 2.5]:\n",
    "    sss = f'hfx{deltahr}'\n",
    "    print(sss)"
   ]
  },
  {
   "cell_type": "code",
   "execution_count": null,
   "id": "03ccde23-6f99-41a3-9d01-added3026ae4",
   "metadata": {},
   "outputs": [],
   "source": []
  }
 ],
 "metadata": {
  "kernelspec": {
   "display_name": "NPL 2025a",
   "language": "python",
   "name": "npl-2025a"
  },
  "language_info": {
   "codemirror_mode": {
    "name": "ipython",
    "version": 3
   },
   "file_extension": ".py",
   "mimetype": "text/x-python",
   "name": "python",
   "nbconvert_exporter": "python",
   "pygments_lexer": "ipython3",
   "version": "3.12.8"
  }
 },
 "nbformat": 4,
 "nbformat_minor": 5
}
