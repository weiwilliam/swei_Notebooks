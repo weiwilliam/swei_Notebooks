{
 "cells": [
  {
   "cell_type": "code",
   "execution_count": 1,
   "id": "31730ad4-468a-4936-b6a1-b1929af07a13",
   "metadata": {},
   "outputs": [],
   "source": [
    "import os\n",
    "from tqdm import tqdm\n",
    "import xarray as xa\n",
    "import numpy as np\n",
    "import pandas as pd\n",
    "import cartopy.crs as ccrs\n",
    "import matplotlib.pyplot as plt\n",
    "from pylibs.plot_utils import set_size, setupax_2dmap\n",
    "from pylibs.utils import get_dates\n",
    "from joblib import Parallel, delayed"
   ]
  },
  {
   "cell_type": "code",
   "execution_count": 2,
   "id": "7832f600-ef6e-49db-be98-0a73b1852dc3",
   "metadata": {},
   "outputs": [],
   "source": [
    "sdate = 2024110100\n",
    "edate = 2024113018\n",
    "date_interval = 6\n",
    "dates = get_dates(sdate, edate, date_interval)\n",
    "plot_ch = 4\n",
    "plotvar = 'aerosolOpticalDepth'\n",
    "lon_res = 0.625\n",
    "lat_res = 0.5\n",
    "filetype = 'hofx'"
   ]
  },
  {
   "cell_type": "code",
   "execution_count": 3,
   "id": "717d9b8c-9a5c-4e30-ab13-d03054d1a53e",
   "metadata": {},
   "outputs": [],
   "source": [
    "# ioda_path = '/glade/campaign/ncar/nmmm0072/Data/obs'\n",
    "ioda_path = '/glade/work/swei/Git/JEDI-METplus/output/aodobs_merra2/hofx/f00'\n",
    "obs_name_list = [\n",
    "    'modis_terra_aod', 'modis_aqua_aod', 'pace_aod',\n",
    "    'viirs_aod_dt_npp', 'viirs_aod_dt_n20',\n",
    "    'viirs_aod_db_npp', 'viirs_aod_db_n20',\n",
    "]"
   ]
  },
  {
   "cell_type": "code",
   "execution_count": 40,
   "id": "e1ee8367-e995-40ee-8d2a-96e233aa7bd9",
   "metadata": {},
   "outputs": [],
   "source": [
    "latbin = np.arange(-90-0.5*lat_res, 90+lat_res, lat_res)\n",
    "latgrd = np.arange(-90, 90+0.5*lat_res, lat_res)\n",
    "lonbin = np.arange(-180-0.5*lon_res, 180, lon_res)\n",
    "longrd = np.arange(-180, 180, lon_res)"
   ]
  },
  {
   "cell_type": "code",
   "execution_count": 29,
   "id": "88180625-3770-4135-8766-f1442eb4a679",
   "metadata": {},
   "outputs": [],
   "source": [
    "def process_obsname(obsname):\n",
    "    print(f'processing {obsname}')\n",
    "    for i, cdate in tqdm(enumerate(dates)):\n",
    "        cdate_str = cdate.strftime('%Y%m%d%H')\n",
    "        iodafile = f'{ioda_path}/{obsname}/{filetype}.{obsname}.{cdate_str}.nc4'\n",
    "\n",
    "        dims_ds = xa.open_dataset(iodafile)\n",
    "        channel = dims_ds.Channel.values\n",
    "\n",
    "        meta_ds = xa.open_dataset(iodafile, group='MetaData')\n",
    "        lats = meta_ds.latitude.data\n",
    "        lons = meta_ds.longitude.data\n",
    "\n",
    "        obsv_ds = xa.open_dataset(iodafile, group='ObsValue').assign_coords(Channel=channel.astype(np.int32))\n",
    "        obsv_data = obsv_ds[plotvar].sel(Channel=plot_ch).data\n",
    "        hofx_ds = xa.open_dataset(iodafile, group='hofx').assign_coords(Channel=channel.astype(np.int32))\n",
    "        hofx_data = hofx_ds[plotvar].sel(Channel=plot_ch).data\n",
    "        ombs_data = obsv_data - hofx_data\n",
    "\n",
    "        data_dict = {\n",
    "            f'{obsname}_obs': (['locs'], obsv_data),\n",
    "            f'{obsname}_hofx': (['locs'], hofx_data),\n",
    "            f'{obsname}_omb': (['locs'], ombs_data),\n",
    "            'lat': (['locs'], lats),\n",
    "            'lon': (['locs'], lons),\n",
    "        }\n",
    "\n",
    "        coord_dict = {'locs': range(lons.size)}\n",
    "        ds = xa.Dataset(data_dict, coords=coord_dict)\n",
    "\n",
    "        df = ds.to_dataframe()\n",
    "        df['latitude'] = pd.cut(df['lat'], bins=latbin, labels=latgrd)\n",
    "        df['longitude'] = pd.cut(df['lon'], bins=lonbin, labels=longrd)\n",
    "        grp = df.groupby(['latitude', 'longitude'], observed=False).agg({\n",
    "            f'{obsname}_obs':['count', 'mean', 'std'],\n",
    "            f'{obsname}_hofx':['mean', 'std'],\n",
    "            f'{obsname}_omb':['mean', 'std'],\n",
    "        })\n",
    "        grp.columns = [f\"{lvl1}_{lvl2}\" for lvl1, lvl2 in grp.columns]\n",
    "        gridded_ds = grp.to_xarray()\n",
    "\n",
    "        if i == 0:\n",
    "            outds = gridded_ds\n",
    "        else:\n",
    "            outds = xa.concat((outds, gridded_ds), dim='time')\n",
    "\n",
    "    outds = outds.assign_coords({'time':dates})\n",
    "    return outds\n",
    "    # if j == 0:\n",
    "    #     allds = outds\n",
    "    # else:\n",
    "    #     allds = xa.merge([allds, outds])"
   ]
  },
  {
   "cell_type": "code",
   "execution_count": 42,
   "id": "f6b3b307-7bae-4385-b236-d53242ea605c",
   "metadata": {},
   "outputs": [
    {
     "name": "stdout",
     "output_type": "stream",
     "text": [
      "processing pace_aodprocessing viirs_aod_dt_npp\n",
      "\n",
      "processing viirs_aod_db_npp\n",
      "processing modis_aqua_aodprocessing viirs_aod_dt_n20\n",
      "\n",
      "processing viirs_aod_db_n20\n",
      "processing modis_terra_aod\n"
     ]
    },
    {
     "name": "stderr",
     "output_type": "stream",
     "text": [
      "120it [00:26,  4.53it/s]\n",
      "120it [00:27,  4.35it/s]\n",
      "120it [01:00,  1.98it/s]\n",
      "120it [01:03,  1.90it/s]\n",
      "120it [01:06,  1.79it/s]\n",
      "120it [01:14,  1.62it/s]\n",
      "120it [01:15,  1.59it/s]\n"
     ]
    },
    {
     "name": "stdout",
     "output_type": "stream",
     "text": [
      "Process Finished\n"
     ]
    }
   ],
   "source": [
    "dataset_list = Parallel(n_jobs=32)(delayed(process_obsname)(obs) for obs in obs_name_list)\n",
    "allds = xa.merge(dataset_list)\n",
    "print('Process Finished')"
   ]
  },
  {
   "cell_type": "code",
   "execution_count": 43,
   "id": "cd4fab54-086d-4594-b48c-48c19d9f0e98",
   "metadata": {},
   "outputs": [],
   "source": [
    "allds.to_netcdf('/glade/work/swei/projects/mmm.pace_aod/aod_obs_stats.m2.202411.nc4')"
   ]
  },
  {
   "cell_type": "code",
   "execution_count": null,
   "id": "7fc5b590-6e2e-4f76-99ed-fd501a76192d",
   "metadata": {},
   "outputs": [],
   "source": []
  }
 ],
 "metadata": {
  "kernelspec": {
   "display_name": "NPL 2025a",
   "language": "python",
   "name": "npl-2025a"
  },
  "language_info": {
   "codemirror_mode": {
    "name": "ipython",
    "version": 3
   },
   "file_extension": ".py",
   "mimetype": "text/x-python",
   "name": "python",
   "nbconvert_exporter": "python",
   "pygments_lexer": "ipython3",
   "version": "3.12.8"
  }
 },
 "nbformat": 4,
 "nbformat_minor": 5
}
