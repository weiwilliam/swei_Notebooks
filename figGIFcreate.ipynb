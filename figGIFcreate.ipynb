{
 "cells": [
  {
   "cell_type": "code",
   "execution_count": null,
   "id": "9f14462d-ff2f-478b-930b-2e415bee0aff",
   "metadata": {},
   "outputs": [],
   "source": [
    "import sys, os\n",
    "import glob\n",
    "from PIL import Image"
   ]
  },
  {
   "cell_type": "code",
   "execution_count": null,
   "id": "928f8b13-ebb4-4533-8410-42d5c4a07b72",
   "metadata": {},
   "outputs": [],
   "source": [
    "file_type = 'pace_aod'\n",
    "in_dir = \"/glade/derecho/scratch/swei/Dataset/output/pngs\"\n",
    "outdir = \"/glade/derecho/scratch/swei/Dataset/output/gifs\"\n",
    "search_path = f\"{in_dir}/{file_type}/*.png\"\n",
    "images_path = sorted(glob.glob(search_path))\n",
    "output_path = f\"{outdir}/{file_type}.gif\""
   ]
  },
  {
   "cell_type": "code",
   "execution_count": null,
   "id": "c0215c4f-98c3-43c8-a7ef-a26145683c32",
   "metadata": {},
   "outputs": [],
   "source": [
    "def create_gif(images_path, output_path, duration=200):\n",
    "    \"\"\"\n",
    "    Creates a GIF from a list of image paths.\n",
    "\n",
    "    Args:\n",
    "        image_paths (list): List of paths to the images.\n",
    "        output_path (str): Path to save the output GIF.\n",
    "        duration (int, optional): Duration of each frame in milliseconds. Defaults to 200.\n",
    "    \"\"\"\n",
    "    frames = [Image.open(image) for image in images_path]\n",
    "    \n",
    "    # Ensure all frames are the same size; resize if needed\n",
    "    widths, heights = zip(*(i.size for i in frames))\n",
    "    max_width = max(widths)\n",
    "    max_height = max(heights)\n",
    "    \n",
    "    frames = [f.resize((max_width, max_height), Image.LANCZOS) if f.size != (max_width, max_height) else f for f in frames]\n",
    "    \n",
    "    frames[0].save(\n",
    "        output_path,\n",
    "        save_all=True,\n",
    "        append_images=frames[1:],\n",
    "        duration=duration,\n",
    "        loop=0, # 0 means infinite loop\n",
    "        disposal=2 # Ensure proper disposal method for transparency\n",
    "    )"
   ]
  },
  {
   "cell_type": "code",
   "execution_count": null,
   "id": "32023725-7d32-4910-bfeb-147bf5da2757",
   "metadata": {},
   "outputs": [],
   "source": [
    "create_gif(images_path, output_path, duration=400)\n",
    "print(f\"GIF saved to {output_path}\")"
   ]
  },
  {
   "cell_type": "code",
   "execution_count": null,
   "id": "f7a68858-8c74-45ad-bf7a-e3f4f9376310",
   "metadata": {},
   "outputs": [],
   "source": []
  }
 ],
 "metadata": {
  "kernelspec": {
   "display_name": "NPL 2025a",
   "language": "python",
   "name": "npl-2025a"
  },
  "language_info": {
   "codemirror_mode": {
    "name": "ipython",
    "version": 3
   },
   "file_extension": ".py",
   "mimetype": "text/x-python",
   "name": "python",
   "nbconvert_exporter": "python",
   "pygments_lexer": "ipython3",
   "version": "3.12.8"
  }
 },
 "nbformat": 4,
 "nbformat_minor": 5
}
