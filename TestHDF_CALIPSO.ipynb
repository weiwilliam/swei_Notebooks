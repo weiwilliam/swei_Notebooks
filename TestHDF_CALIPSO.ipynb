{
 "cells": [
  {
   "cell_type": "code",
   "execution_count": 1,
   "id": "45521eab-ad33-41ad-8f44-391244b13bee",
   "metadata": {},
   "outputs": [],
   "source": [
    "from pyhdf.HDF import HDF\n",
    "from pyhdf.VS import VS\n",
    "from pyhdf.SD import SD, SDC\n",
    "import numpy as np\n",
    "from datetime import datetime, timezone, timedelta\n",
    "import timeit\n",
    "import os\n",
    "\n",
    "os.environ[\"TZ\"] = \"UTC\"\n",
    "\n",
    "iso8601_string = \"seconds since 1970-01-01T00:00:00Z\"\n",
    "epoch = datetime.fromisoformat(iso8601_string[14:-1])\n",
    "epoch = epoch.replace(tzinfo=timezone.utc)\n",
    "\n",
    "niters = 1000000"
   ]
  },
  {
   "cell_type": "code",
   "execution_count": 13,
   "id": "860c1fda-9f52-43e8-a929-5ac5d2ae3d58",
   "metadata": {},
   "outputs": [],
   "source": [
    "def get_normalized_bit(value, bit_index):\n",
    "    return (value >> bit_index) & 1"
   ]
  },
  {
   "cell_type": "code",
   "execution_count": 3,
   "id": "9d03b3ff-8c00-4481-b0a3-3131bc927649",
   "metadata": {},
   "outputs": [],
   "source": [
    "wbeg = np.datetime64(datetime.strptime(\"200101010000\", \"%Y%m%d%H%M\"))\n",
    "wend = np.datetime64(datetime.strptime(\"210001010000\", \"%Y%m%d%H%M\"))"
   ]
  },
  {
   "cell_type": "code",
   "execution_count": 2,
   "id": "0d2d2f86-6322-4cf7-a1b8-26fab1230094",
   "metadata": {},
   "outputs": [],
   "source": [
    "# infile = '/glade/work/swei/data/RawOBS/CALIPSO/test_subset.hdf'\n",
    "# infile = '/glade/work/swei/skylab/devtmp/iodaconv/test/testinput/caliop_l2_APro.hdf'\n",
    "infile = '/glade/work/swei/data/RawOBS/CALIPSO_v451/CAL_LID_L2_05kmAPro-Standard-V4-51.2019-07-22T03-45-56ZN_Subset.hdf'\n",
    "# infile = '/glade/work/swei/data/RawOBS/CALIPSO/CAL_LID_L1-Standard-V4-10.2019-07-22T03-45-56ZN.hdf'\n",
    "hdf = HDF(infile)\n",
    "vs = hdf.vstart()\n",
    "metaid = vs.find('metadata')\n",
    "vd = vs.attach(metaid)\n",
    "vd.setfields('Lidar_Data_Altitudes')\n",
    "alt = np.array(vd.read()[0][0]) * 1000\n",
    "nlev = alt.size\n",
    "vd.detach()\n",
    "vs.end()"
   ]
  },
  {
   "cell_type": "code",
   "execution_count": 15,
   "id": "3b67a8d4-e68f-4c9e-b3fa-531e219c6d3f",
   "metadata": {},
   "outputs": [],
   "source": [
    "sd = SD(infile, SDC.READ)\n",
    "caliop_ref_time = datetime(1993, 1, 1, 0, 0, 0)"
   ]
  },
  {
   "cell_type": "code",
   "execution_count": 5,
   "id": "b692c90c-6f9e-468f-82cd-c765a8338dca",
   "metadata": {},
   "outputs": [],
   "source": [
    "thickness = np.empty_like(alt)\n",
    "thickness[1:-1] = 0.5 * (alt[:-2] - alt[2:])\n",
    "thickness[0] = alt[0] - alt[1]\n",
    "thickness[-1] = alt[-2] - alt[-1]"
   ]
  },
  {
   "cell_type": "code",
   "execution_count": 10,
   "id": "39c39daa-5258-4b33-85a5-8f6f45c5498b",
   "metadata": {},
   "outputs": [],
   "source": [
    "def calipso_time2dt(time):\n",
    "    dtarr = [datetime.strptime(str(t)[:6], '%y%m%d') for t in time]\n",
    "    delta = [timedelta(frac) for frac in np.mod(time, 1)]\n",
    "    outarr = [(dt + dl).replace(tzinfo=timezone.utc) for dt, dl in zip(dtarr, delta)]\n",
    "    return outarr"
   ]
  },
  {
   "cell_type": "code",
   "execution_count": 78,
   "id": "bf13725c-7712-44b8-8c93-f41dbf2ea4b2",
   "metadata": {},
   "outputs": [],
   "source": [
    "utcproftime = sd.select('Profile_UTC_Time').get()[:, 1]\n",
    "utcobs_time = np.array([(pt - epoch).total_seconds() for pt in calipso_time2dt(utcproftime)], dtype=np.int64)"
   ]
  },
  {
   "cell_type": "code",
   "execution_count": 28,
   "id": "c3f0b11b-b308-4916-882d-da15f39d3952",
   "metadata": {},
   "outputs": [
    {
     "ename": "AttributeError",
     "evalue": "'numpy.ndarray' object has no attribute 'total_seconds'",
     "output_type": "error",
     "traceback": [
      "\u001b[0;31m---------------------------------------------------------------------------\u001b[0m",
      "\u001b[0;31mAttributeError\u001b[0m                            Traceback (most recent call last)",
      "Cell \u001b[0;32mIn[28], line 2\u001b[0m\n\u001b[1;32m      1\u001b[0m proftime \u001b[38;5;241m=\u001b[39m sd\u001b[38;5;241m.\u001b[39mselect(\u001b[38;5;124m'\u001b[39m\u001b[38;5;124mProfile_Time\u001b[39m\u001b[38;5;124m'\u001b[39m)\u001b[38;5;241m.\u001b[39mget()[:, \u001b[38;5;241m1\u001b[39m]\n\u001b[0;32m----> 2\u001b[0m obs_time \u001b[38;5;241m=\u001b[39m np\u001b[38;5;241m.\u001b[39marray([\u001b[43m(\u001b[49m\u001b[43mproftime\u001b[49m\u001b[43m \u001b[49m\u001b[38;5;241;43m+\u001b[39;49m\u001b[43m \u001b[49m\u001b[43mcaliop_ref_time\u001b[49m\u001b[38;5;241;43m.\u001b[39;49m\u001b[43mtimestamp\u001b[49m\u001b[43m(\u001b[49m\u001b[43m)\u001b[49m\u001b[43m)\u001b[49m\u001b[38;5;241;43m.\u001b[39;49m\u001b[43mtotal_seconds\u001b[49m()])\n",
      "\u001b[0;31mAttributeError\u001b[0m: 'numpy.ndarray' object has no attribute 'total_seconds'"
     ]
    }
   ],
   "source": [
    "proftime = sd.select('Profile_Time').get()[:, 1]\n",
    "obs_time = np.array([(proftime + caliop_ref_time.timestamp()).total_seconds()])"
   ]
  },
  {
   "cell_type": "code",
   "execution_count": 25,
   "id": "9600185c-1c04-4b73-95dd-0132318d612d",
   "metadata": {},
   "outputs": [],
   "source": [
    "pres = sd.select('Pressure').get().ravel() * 1e2\n",
    "cad1 = np.zeros_like(pres)\n",
    "cad2 = np.zeros_like(pres)\n",
    "tmpcad = sd.select(\"CAD_Score\").get()\n",
    "tmpcad = tmpcad.reshape(-1, tmpcad.shape[2])\n",
    "cad1 = tmpcad[:, 0]\n",
    "cad2 = tmpcad[:, 1]"
   ]
  },
  {
   "cell_type": "code",
   "execution_count": 31,
   "id": "f026c394-50b7-494b-a2a1-c433bf15ec28",
   "metadata": {},
   "outputs": [
    {
     "data": {
      "text/plain": [
       "array([-127, -127, -127], dtype=int8)"
      ]
     },
     "execution_count": 31,
     "metadata": {},
     "output_type": "execute_result"
    }
   ],
   "source": [
    "cad1[9975:9978]"
   ]
  },
  {
   "cell_type": "code",
   "execution_count": 32,
   "id": "cf51f91e-57ce-4a95-a05d-65839c742e8a",
   "metadata": {},
   "outputs": [],
   "source": [
    "oricad = sd.select(\"CAD_Score\").get()"
   ]
  },
  {
   "cell_type": "code",
   "execution_count": 33,
   "id": "e0a15f60-37ad-4c7a-90f9-4c2f91e3104a",
   "metadata": {},
   "outputs": [
    {
     "data": {
      "text/plain": [
       "(50, 399, 2)"
      ]
     },
     "execution_count": 33,
     "metadata": {},
     "output_type": "execute_result"
    }
   ],
   "source": [
    "oricad.shape"
   ]
  },
  {
   "cell_type": "code",
   "execution_count": 64,
   "id": "3d2dd416-fdf6-4add-bbf6-365575e67844",
   "metadata": {},
   "outputs": [],
   "source": [
    "pres = sd.select('Pressure').get().ravel() * 1e2  # hPa to Pa\n",
    "lats = sd.select('Latitude').get()[:, 1]\n",
    "nloc = lats.size\n",
    "lats = np.repeat(lats, nlev)\n",
    "lons = sd.select('Longitude').get()[:, 1]\n",
    "lons = np.repeat(lons, nlev)\n",
    "profidx = np.arange(lats.size)\n",
    "proftime = sd.select('Profile_Time').get()[:, 1]\n",
    "obs_time = (proftime + caliop_ref_time.timestamp()).astype('datetime64[s]')\n",
    "obs_time = np.tile(obs_time, nlev)\n",
    "winmsk = ((obs_time >= wbeg) & (obs_time <= wend))"
   ]
  },
  {
   "cell_type": "code",
   "execution_count": 65,
   "id": "775deb06-842e-4ae9-9556-8ef8267cfcab",
   "metadata": {},
   "outputs": [
    {
     "data": {
      "text/plain": [
       "array([58.274254, 58.274254, 58.274254, ..., 56.133595, 56.133595,\n",
       "       56.133595], dtype=float32)"
      ]
     },
     "execution_count": 65,
     "metadata": {},
     "output_type": "execute_result"
    }
   ],
   "source": [
    "lats"
   ]
  },
  {
   "cell_type": "code",
   "execution_count": 52,
   "id": "a8bf342a-598e-49e7-a10d-df03d2039817",
   "metadata": {},
   "outputs": [],
   "source": [
    "cad = sd.select(\"CAD_Score\").get()"
   ]
  },
  {
   "cell_type": "code",
   "execution_count": 54,
   "id": "07231600-a573-4961-ac0d-f1e97e52e52e",
   "metadata": {},
   "outputs": [
    {
     "data": {
      "text/plain": [
       "(50, 399, 2)"
      ]
     },
     "execution_count": 54,
     "metadata": {},
     "output_type": "execute_result"
    }
   ],
   "source": [
    "cad.shape"
   ]
  },
  {
   "cell_type": "code",
   "execution_count": 36,
   "id": "1fdb6408-e320-4da1-a403-d3881b0906e3",
   "metadata": {},
   "outputs": [],
   "source": [
    "caliop_ref_time = datetime(1993, 1, 1, 0, 0, 0)\n",
    "proftime = sd.select('Profile_Time').get()[:, 1]\n",
    "obs_time = (proftime + caliop_ref_time.timestamp()).astype('datetime64[s]')\n",
    "obs_time = np.tile(obs_time[:, np.newaxis], (1, 399))"
   ]
  },
  {
   "cell_type": "code",
   "execution_count": 38,
   "id": "bcb395d7-7f7f-42b2-8684-9bac269e477b",
   "metadata": {},
   "outputs": [
    {
     "data": {
      "text/plain": [
       "(50, 399)"
      ]
     },
     "execution_count": 38,
     "metadata": {},
     "output_type": "execute_result"
    }
   ],
   "source": [
    "obs_time.shape"
   ]
  },
  {
   "cell_type": "code",
   "execution_count": 21,
   "id": "f2dbc1a0-a800-4179-9492-83455517fc50",
   "metadata": {},
   "outputs": [],
   "source": [
    "qc1 = sd.select('QC_Flag').get()\n",
    "qc2 = sd.select('QC_Flag_2').get()"
   ]
  },
  {
   "cell_type": "code",
   "execution_count": 24,
   "id": "c47704c1-96d7-4d06-8721-d3958a7a4679",
   "metadata": {},
   "outputs": [],
   "source": [
    "a = sd.select('Total_Attenuated_Backscatter_532').get()"
   ]
  },
  {
   "cell_type": "code",
   "execution_count": 15,
   "id": "52744d0f-2233-45a4-a18a-ff342175c33e",
   "metadata": {},
   "outputs": [],
   "source": [
    "bit_list1_532 = [[1, 2], 4, 5, 7, [8, 9], [11, 12], 13, 15, 17, 19, 20, 22, 24]\n",
    "bit_list2_532 = [[2, 3], [5, 6], [8, 9], [11, 12], [14, 15], [17, 18], [20, 21], [23, 24], 26]\n",
    "bit_list_1_1064 = [3, 4, 6, 10, 14, 16, 18, 21, 23]\n",
    "bit_list_2_1064 = [4, 7, 10, 13, 16, 19, 22, 25, 26, 27]"
   ]
  },
  {
   "cell_type": "code",
   "execution_count": 26,
   "id": "a7ed2fce-920a-41a0-96b8-721f1a3fdcc5",
   "metadata": {},
   "outputs": [
    {
     "ename": "SyntaxError",
     "evalue": "'{' was never closed (1848822094.py, line 1)",
     "output_type": "error",
     "traceback": [
      "\u001b[0;36m  Cell \u001b[0;32mIn[26], line 1\u001b[0;36m\u001b[0m\n\u001b[0;31m    qc_bit_dict = {\u001b[0m\n\u001b[0m                  ^\u001b[0m\n\u001b[0;31mSyntaxError\u001b[0m\u001b[0;31m:\u001b[0m '{' was never closed\n"
     ]
    }
   ],
   "source": [
    "qc_bit_dict = {\n",
    "    '532': {\n",
    "        'region1': [1, 2]\n",
    "        'region2': \n",
    "    }\n",
    "    '1064':\n",
    "}"
   ]
  },
  {
   "cell_type": "code",
   "execution_count": 3,
   "id": "c24f6a3d-986c-4ff6-a502-048ae7ed0b01",
   "metadata": {},
   "outputs": [],
   "source": [
    "# Level 2 extinction\n",
    "sd = SD(infile, SDC.READ)\n",
    "data = sd.select('Extinction_Coefficient_532').get()\n",
    "data2 = sd.select('Extinction_Coefficient_1064').get()\n",
    "err = sd.select('Extinction_Coefficient_Uncertainty_532').get()\n",
    "cad = sd.select('CAD_Score').get()"
   ]
  },
  {
   "cell_type": "code",
   "execution_count": 8,
   "id": "7c3bfc0e-2b60-4e8a-bda6-2e7453354407",
   "metadata": {},
   "outputs": [
    {
     "data": {
      "text/plain": [
       "18.173855"
      ]
     },
     "execution_count": 8,
     "metadata": {},
     "output_type": "execute_result"
    }
   ],
   "source": [
    "data[data != -9999.0].max()"
   ]
  },
  {
   "cell_type": "code",
   "execution_count": 16,
   "id": "5c7d63d8-d074-4ed9-8ed2-ea68ca19ee89",
   "metadata": {},
   "outputs": [
    {
     "data": {
      "text/plain": [
       "{'fakeDim75': 4192, 'fakeDim76': 399, 'fakeDim77': 2}"
      ]
     },
     "execution_count": 16,
     "metadata": {},
     "output_type": "execute_result"
    }
   ],
   "source": [
    "sd.select('CAD_Score').dimensions()"
   ]
  },
  {
   "cell_type": "code",
   "execution_count": 41,
   "id": "af3da973-6ebc-4be6-ac39-c2ef829ab9a3",
   "metadata": {},
   "outputs": [],
   "source": [
    "mask = data=-9999.\n",
    "mask2 = (data2<0.)&(data2!=-9999.)"
   ]
  },
  {
   "cell_type": "code",
   "execution_count": 25,
   "id": "94e4e672-64ba-4794-9111-452d57951ea5",
   "metadata": {},
   "outputs": [],
   "source": [
    "c = np.stack((data, data2), axis=1)"
   ]
  },
  {
   "cell_type": "code",
   "execution_count": 26,
   "id": "11fd9279-7248-4eb7-b2a2-823147e92ef0",
   "metadata": {},
   "outputs": [
    {
     "data": {
      "text/plain": [
       "(4192, 2, 399)"
      ]
     },
     "execution_count": 26,
     "metadata": {},
     "output_type": "execute_result"
    }
   ],
   "source": [
    "c.shape"
   ]
  },
  {
   "cell_type": "code",
   "execution_count": 31,
   "id": "4d24facd-060c-4bc2-aca7-795fd8beaa86",
   "metadata": {},
   "outputs": [
    {
     "data": {
      "text/plain": [
       "(4192,)"
      ]
     },
     "execution_count": 31,
     "metadata": {},
     "output_type": "execute_result"
    }
   ],
   "source": [
    "lats=hdf.select('Latitude').get()[:,1]\n",
    "lats.shape"
   ]
  },
  {
   "cell_type": "code",
   "execution_count": 79,
   "id": "719cf594-13c6-4a02-9766-d191b5b002c6",
   "metadata": {},
   "outputs": [
    {
     "data": {
      "text/plain": [
       "(4192, 399)"
      ]
     },
     "execution_count": 79,
     "metadata": {},
     "output_type": "execute_result"
    }
   ],
   "source": [
    "qcf = sd.select('Extinction_QC_Flag_1064').get()\n",
    "tmpqcf = np.where(qcf[:, :, 0]==qcf[:, :, 1], qcf[:, :, 0], qcf.sum(axis=2))\n",
    "tmpqcf.shape"
   ]
  },
  {
   "cell_type": "code",
   "execution_count": 80,
   "id": "34651eb3-067d-4769-a9f6-c753eb6295a2",
   "metadata": {},
   "outputs": [
    {
     "data": {
      "text/plain": [
       "(4192, 399, 2)"
      ]
     },
     "execution_count": 80,
     "metadata": {},
     "output_type": "execute_result"
    }
   ],
   "source": [
    "qcf.shape"
   ]
  },
  {
   "cell_type": "code",
   "execution_count": null,
   "id": "ba153ae3-2105-4624-a2f8-f9a2608135fa",
   "metadata": {},
   "outputs": [],
   "source": []
  }
 ],
 "metadata": {
  "kernelspec": {
   "display_name": "NPL 2025a",
   "language": "python",
   "name": "npl-2025a"
  },
  "language_info": {
   "codemirror_mode": {
    "name": "ipython",
    "version": 3
   },
   "file_extension": ".py",
   "mimetype": "text/x-python",
   "name": "python",
   "nbconvert_exporter": "python",
   "pygments_lexer": "ipython3",
   "version": "3.12.8"
  }
 },
 "nbformat": 4,
 "nbformat_minor": 5
}
