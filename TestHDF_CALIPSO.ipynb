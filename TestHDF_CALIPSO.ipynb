{
 "cells": [
  {
   "cell_type": "code",
   "execution_count": 1,
   "id": "45521eab-ad33-41ad-8f44-391244b13bee",
   "metadata": {},
   "outputs": [],
   "source": [
    "from pyhdf.HDF import *\n",
    "from pyhdf.VS import *\n",
    "from pyhdf.SD import SD, SDC\n",
    "import numpy as np"
   ]
  },
  {
   "cell_type": "code",
   "execution_count": 2,
   "id": "860c1fda-9f52-43e8-a929-5ac5d2ae3d58",
   "metadata": {},
   "outputs": [],
   "source": [
    "def get_normalized_bit(value, bit_index):\n",
    "    return (value >> bit_index) & 1"
   ]
  },
  {
   "cell_type": "code",
   "execution_count": 4,
   "id": "0d2d2f86-6322-4cf7-a1b8-26fab1230094",
   "metadata": {},
   "outputs": [],
   "source": [
    "#infile = '/glade/derecho/scratch/swei/Dataset/input/obs/calipso/CAL_LID_L2_05kmAPro-Standard-V4-20.2019-07-22T07-49-21ZD.hdf'\n",
    "infile = '/glade/work/swei/data/RawOBS/CALIPSO/CAL_LID_L1-Standard-V4-10.2019-07-22T07-49-21ZD.hdf'\n",
    "hdf = HDF(infile)\n",
    "vs = hdf.vstart()\n",
    "metaid = vs.find('metadata')\n",
    "vd = vs.attach(metaid)\n",
    "vd.setfields('Lidar_Data_Altitudes')\n",
    "alt = np.array(vd.read()[0][0])\n",
    "vd.detach()\n",
    "vs.end()"
   ]
  },
  {
   "cell_type": "code",
   "execution_count": 15,
   "id": "f09ffa4c-048a-41aa-b93b-4d4253264718",
   "metadata": {},
   "outputs": [],
   "source": [
    "region1 = slice(578, 583)\n",
    "region2 = slice(288, 578)\n",
    "region3 = slice(88, 288)\n",
    "region4 = slice(33, 88)\n",
    "region5 = slice(0, 33)"
   ]
  },
  {
   "cell_type": "code",
   "execution_count": 19,
   "id": "0f3c0db3-b9d7-4974-8b80-ca1c80eb5e2c",
   "metadata": {},
   "outputs": [
    {
     "data": {
      "text/plain": [
       "array([-0.62084842, -0.92023003, -1.21961164, -1.51899326, -1.81837487])"
      ]
     },
     "execution_count": 19,
     "metadata": {},
     "output_type": "execute_result"
    }
   ],
   "source": [
    "alt[region1]"
   ]
  },
  {
   "cell_type": "code",
   "execution_count": 20,
   "id": "3b67a8d4-e68f-4c9e-b3fa-531e219c6d3f",
   "metadata": {},
   "outputs": [],
   "source": [
    "# Level 1 backscatter\n",
    "sd = SD(infile, SDC.READ)"
   ]
  },
  {
   "cell_type": "code",
   "execution_count": 21,
   "id": "f2dbc1a0-a800-4179-9492-83455517fc50",
   "metadata": {},
   "outputs": [],
   "source": [
    "qc1 = sd.select('QC_Flag').get()\n",
    "qc2 = sd.select('QC_Flag_2').get()"
   ]
  },
  {
   "cell_type": "code",
   "execution_count": 24,
   "id": "c47704c1-96d7-4d06-8721-d3958a7a4679",
   "metadata": {},
   "outputs": [],
   "source": [
    "a = sd.select('Total_Attenuated_Backscatter_532').get()"
   ]
  },
  {
   "cell_type": "code",
   "execution_count": 15,
   "id": "52744d0f-2233-45a4-a18a-ff342175c33e",
   "metadata": {},
   "outputs": [],
   "source": [
    "bit_list1_532 = [[1, 2], 4, 5, 7, [8, 9], [11, 12], 13, 15, 17, 19, 20, 22, 24]\n",
    "bit_list2_532 = [[2, 3], [5, 6], [8, 9], [11, 12], [14, 15], [17, 18], [20, 21], [23, 24], 26]\n",
    "bit_list_1_1064 = [3, 4, 6, 10, 14, 16, 18, 21, 23]\n",
    "bit_list_2_1064 = [4, 7, 10, 13, 16, 19, 22, 25, 26, 27]"
   ]
  },
  {
   "cell_type": "code",
   "execution_count": 26,
   "id": "a7ed2fce-920a-41a0-96b8-721f1a3fdcc5",
   "metadata": {},
   "outputs": [
    {
     "ename": "SyntaxError",
     "evalue": "'{' was never closed (1848822094.py, line 1)",
     "output_type": "error",
     "traceback": [
      "\u001b[0;36m  Cell \u001b[0;32mIn[26], line 1\u001b[0;36m\u001b[0m\n\u001b[0;31m    qc_bit_dict = {\u001b[0m\n\u001b[0m                  ^\u001b[0m\n\u001b[0;31mSyntaxError\u001b[0m\u001b[0;31m:\u001b[0m '{' was never closed\n"
     ]
    }
   ],
   "source": [
    "qc_bit_dict = {\n",
    "    '532': {\n",
    "        'region1': [1, 2]\n",
    "        'region2': \n",
    "    }\n",
    "    '1064':\n",
    "}"
   ]
  },
  {
   "cell_type": "code",
   "execution_count": 7,
   "id": "c24f6a3d-986c-4ff6-a502-048ae7ed0b01",
   "metadata": {},
   "outputs": [],
   "source": [
    "# Level 2 extinction\n",
    "sd = SD(infile, SDC.READ)\n",
    "data = sd.select('Extinction_Coefficient_532').get()\n",
    "data2 = sd.select('Extinction_Coefficient_1064').get()\n",
    "err = sd.select('Extinction_Coefficient_Uncertainty_532').get()\n",
    "cad = sd.select('CAD_Score').get()"
   ]
  },
  {
   "cell_type": "code",
   "execution_count": 16,
   "id": "5c7d63d8-d074-4ed9-8ed2-ea68ca19ee89",
   "metadata": {},
   "outputs": [
    {
     "data": {
      "text/plain": [
       "{'fakeDim75': 4192, 'fakeDim76': 399, 'fakeDim77': 2}"
      ]
     },
     "execution_count": 16,
     "metadata": {},
     "output_type": "execute_result"
    }
   ],
   "source": [
    "sd.select('CAD_Score').dimensions()"
   ]
  },
  {
   "cell_type": "code",
   "execution_count": 41,
   "id": "af3da973-6ebc-4be6-ac39-c2ef829ab9a3",
   "metadata": {},
   "outputs": [],
   "source": [
    "mask = data=-9999.\n",
    "mask2 = (data2<0.)&(data2!=-9999.)"
   ]
  },
  {
   "cell_type": "code",
   "execution_count": 25,
   "id": "94e4e672-64ba-4794-9111-452d57951ea5",
   "metadata": {},
   "outputs": [],
   "source": [
    "c = np.stack((data, data2), axis=1)"
   ]
  },
  {
   "cell_type": "code",
   "execution_count": 26,
   "id": "11fd9279-7248-4eb7-b2a2-823147e92ef0",
   "metadata": {},
   "outputs": [
    {
     "data": {
      "text/plain": [
       "(4192, 2, 399)"
      ]
     },
     "execution_count": 26,
     "metadata": {},
     "output_type": "execute_result"
    }
   ],
   "source": [
    "c.shape"
   ]
  },
  {
   "cell_type": "code",
   "execution_count": 31,
   "id": "4d24facd-060c-4bc2-aca7-795fd8beaa86",
   "metadata": {},
   "outputs": [
    {
     "data": {
      "text/plain": [
       "(4192,)"
      ]
     },
     "execution_count": 31,
     "metadata": {},
     "output_type": "execute_result"
    }
   ],
   "source": [
    "lats=hdf.select('Latitude').get()[:,1]\n",
    "lats.shape"
   ]
  },
  {
   "cell_type": "code",
   "execution_count": 79,
   "id": "719cf594-13c6-4a02-9766-d191b5b002c6",
   "metadata": {},
   "outputs": [
    {
     "data": {
      "text/plain": [
       "(4192, 399)"
      ]
     },
     "execution_count": 79,
     "metadata": {},
     "output_type": "execute_result"
    }
   ],
   "source": [
    "qcf = sd.select('Extinction_QC_Flag_1064').get()\n",
    "tmpqcf = np.where(qcf[:, :, 0]==qcf[:, :, 1], qcf[:, :, 0], qcf.sum(axis=2))\n",
    "tmpqcf.shape"
   ]
  },
  {
   "cell_type": "code",
   "execution_count": 80,
   "id": "34651eb3-067d-4769-a9f6-c753eb6295a2",
   "metadata": {},
   "outputs": [
    {
     "data": {
      "text/plain": [
       "(4192, 399, 2)"
      ]
     },
     "execution_count": 80,
     "metadata": {},
     "output_type": "execute_result"
    }
   ],
   "source": [
    "qcf.shape"
   ]
  },
  {
   "cell_type": "code",
   "execution_count": null,
   "id": "ba153ae3-2105-4624-a2f8-f9a2608135fa",
   "metadata": {},
   "outputs": [],
   "source": []
  }
 ],
 "metadata": {
  "kernelspec": {
   "display_name": "NPL 2025a",
   "language": "python",
   "name": "npl-2025a"
  },
  "language_info": {
   "codemirror_mode": {
    "name": "ipython",
    "version": 3
   },
   "file_extension": ".py",
   "mimetype": "text/x-python",
   "name": "python",
   "nbconvert_exporter": "python",
   "pygments_lexer": "ipython3",
   "version": "3.12.8"
  }
 },
 "nbformat": 4,
 "nbformat_minor": 5
}
