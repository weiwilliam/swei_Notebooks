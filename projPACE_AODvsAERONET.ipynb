{
 "cells": [
  {
   "cell_type": "code",
   "execution_count": 1,
   "id": "31730ad4-468a-4936-b6a1-b1929af07a13",
   "metadata": {},
   "outputs": [],
   "source": [
    "import os\n",
    "from tqdm import tqdm\n",
    "import xarray as xa\n",
    "import pandas as pd\n",
    "import numpy as np\n",
    "import cartopy.crs as ccrs\n",
    "import matplotlib.pyplot as plt\n",
    "import matplotlib.colors as mpcrs\n",
    "from matplotlib import ticker\n",
    "from pylibs.custom_colormaps import white_gist_earth\n",
    "from pylibs.plot_utils import set_size, setupax_2dmap\n",
    "from pylibs.utils import setup_cmap, get_dates\n",
    "from joblib import Parallel, delayed"
   ]
  },
  {
   "cell_type": "code",
   "execution_count": 2,
   "id": "7832f600-ef6e-49db-be98-0a73b1852dc3",
   "metadata": {},
   "outputs": [],
   "source": [
    "sdate = 2024110100\n",
    "edate = 2024113018\n",
    "date_interval = 6\n",
    "dates = get_dates(sdate, edate, date_interval)\n",
    "bkg = 'MERRA-2'\n",
    "plot_ch = 4\n",
    "plotvar = 'aerosolOpticalDepth'\n",
    "pltcyc = False\n",
    "pltstats = True\n",
    "all_omb_stats = False\n",
    "fsave = 1\n",
    "quality=600"
   ]
  },
  {
   "cell_type": "code",
   "execution_count": 3,
   "id": "4d95a2fa-68f4-4b81-8f86-99e85a761262",
   "metadata": {},
   "outputs": [],
   "source": [
    "# control PDF, boxplot\n",
    "binwidth = 0.1\n",
    "halfbin = binwidth/2\n",
    "binmax = 2.\n",
    "bins = np.arange(0., binmax + halfbin, binwidth)\n",
    "bin_lb = [round(l, 2) for l in np.arange(0. + halfbin, binmax, binwidth)]\n",
    "bin_lb_str = [f'{l:.2f}' for l in bin_lb]\n",
    "zero_c_bins = np.arange(-binmax+halfbin, binmax + halfbin, binwidth)\n",
    "zero_c_bin_lb = np.where(abs(np.arange(-binmax+binwidth, binmax, binwidth)) < 1e-10,\n",
    "                         0, np.arange(-binmax+binwidth, binmax, binwidth))\n",
    "zero_c_bin_lb = [round(l, 2) for l in zero_c_bin_lb]\n",
    "zero_c_bin_lb_str = [f'{l:.2f}' for l in zero_c_bin_lb]\n",
    "\n",
    "# Control hist2d\n",
    "hist2d_in_log=1\n",
    "hist2d_xmax=5.0\n",
    "hist2d_xybins=30\n",
    "if hist2d_in_log:\n",
    "    h2d_axis = np.linspace(np.log(0.01), np.log(hist2d_xmax), hist2d_xybins+1)\n",
    "    h2d_axis = np.exp(h2d_axis)\n",
    "else:\n",
    "    h2d_axis = np.linspace(0.01, hist2d_xmax, hist2d_xybins+1)"
   ]
  },
  {
   "cell_type": "code",
   "execution_count": 16,
   "id": "717d9b8c-9a5c-4e30-ab13-d03054d1a53e",
   "metadata": {},
   "outputs": [],
   "source": [
    "hofx_path = '/glade/work/swei/Git/JEDI-METplus/output/aodobs_merra2/hofx/f00'\n",
    "obs_name_list = [\n",
    "    # 'modis_terra_aod', 'modis_aqua_aod',\n",
    "    # 'pace_aod',\n",
    "    # 'viirs_aod_dt_npp', 'viirs_aod_dt_n20',\n",
    "    # 'viirs_aod_db_npp', 'viirs_aod_db_n20',\n",
    "]\n",
    "vardict = {\n",
    "    'obs': 'Obs',\n",
    "    'omb': 'OmB',\n",
    "    'hfx': 'HofX',\n",
    "}\n",
    "aeronet_aod_wvl = [340., 380., 440., 500., 675, 870., 1020., 1640.]"
   ]
  },
  {
   "cell_type": "code",
   "execution_count": 5,
   "id": "b72e336c-ff88-4da2-a511-44486beb9920",
   "metadata": {},
   "outputs": [],
   "source": [
    "savedir = '/glade/work/swei/projects/mmm.pace_aod/plots'\n",
    "cycs_savedir = f'{savedir}/cycles'\n",
    "stat_savedir = f'{savedir}/stats'\n",
    "if not os.path.exists(stat_savedir):\n",
    "    os.makedirs(stat_savedir)\n",
    "for varType in vardict.keys():\n",
    "    for obsname in obs_name_list:\n",
    "        cycdir = f'{cycs_savedir}/{varType}/{obsname}'\n",
    "        if not os.path.exists(cycdir):\n",
    "            os.makedirs(cycdir)"
   ]
  },
  {
   "cell_type": "code",
   "execution_count": null,
   "id": "1a3b4740-bdeb-495e-b215-1c722daaa92d",
   "metadata": {},
   "outputs": [],
   "source": []
  },
  {
   "cell_type": "code",
   "execution_count": 11,
   "id": "c8653c06-6560-4b30-b265-696ce8ead557",
   "metadata": {},
   "outputs": [],
   "source": [
    "def plt_hist2d(dataframe, x, y, axis, save, savename, **kwargs):\n",
    "    x_data = dataframe[x]\n",
    "    y_data = dataframe[y]\n",
    "    xlbstr = kwargs.get('xlb', x)\n",
    "    ylbstr = kwargs.get('ylb', y)\n",
    "    hist2d, x_edge, y_edge = np.histogram2d(x_data,\n",
    "                                            y_data,\n",
    "                                            bins=axis)\n",
    "\n",
    "    cnlvs = np.linspace(0, hist2d.max(), 256)\n",
    "    clrnorm = mpcrs.BoundaryNorm(cnlvs, len(cnlvs), extend='max')\n",
    "\n",
    "    fig, ax = plt.subplots()\n",
    "    set_size(5, 5, b=0.1, l=0.1, r=0.95, t=0.95)\n",
    "    cn = ax.contourf(axis[:-1], axis[:-1], hist2d.swapaxes(0,1),\n",
    "                     levels=cnlvs, norm=clrnorm, cmap=white_gist_earth,\n",
    "                     extend='max')\n",
    "    plt.plot(\n",
    "        [0.0, hist2d_xmax],\n",
    "        [0.0, hist2d_xmax],\n",
    "        color='gray',\n",
    "        linewidth=2,\n",
    "        linestyle='--'\n",
    "    )\n",
    "    plt.xlim(0.01, hist2d_xmax)\n",
    "    plt.ylim(0.01, hist2d_xmax)\n",
    "\n",
    "    if hist2d_in_log:\n",
    "        ax.set_xscale('log')\n",
    "        ax.set_yscale('log')\n",
    "    ax.set_aspect('equal')\n",
    "\n",
    "    plt.grid(alpha=0.5)\n",
    "    plt.xlabel(xlbstr, fontsize=11)\n",
    "    plt.ylabel(ylbstr, fontsize=11)\n",
    "    plt.xticks(fontsize=10)\n",
    "    plt.yticks(fontsize=10)\n",
    "\n",
    "    correlation_matrix = np.corrcoef(x_data, y_data)\n",
    "    correlation_xy = correlation_matrix[0, 1]\n",
    "    r_squared = correlation_xy ** 2\n",
    "    bias = np.mean(y_data) - np.mean(x_data)\n",
    "    rbias = bias/np.mean(x_data)\n",
    "    ssize = len(x_data)\n",
    "\n",
    "    stats_dict = {\n",
    "        'Counts': str(\"%.0f\" % ssize),\n",
    "        'Absolute Bias': str(\"%.3f\" % bias),\n",
    "        'Relative Bias': str(\"%.3f\" % rbias),\n",
    "        'R': str(\"%.3f\" % correlation_xy),\n",
    "        'R\\u00b2': str(\"%.3f\" % r_squared),\n",
    "    }\n",
    "    x_pos = 0.012\n",
    "    y_pos = 1.02\n",
    "    for key in stats_dict.keys():\n",
    "        stat_str = '%s= %s' %(key, stats_dict[key])\n",
    "        y_pos = y_pos - 0.05\n",
    "        ax.annotate(stat_str, (x_pos, y_pos), ha='left', va='center', \n",
    "                    fontsize=12, xycoords='axes fraction')\n",
    "\n",
    "    cb = plt.colorbar(cn, orientation='horizontal', fraction=0.03, aspect=30, \n",
    "                      pad=0.12, extend='max', ticks=cnlvs[::50])\n",
    "    cb.ax.minorticks_off()\n",
    "    cb.ax.ticklabel_format(axis='x', style='sci', scilimits=(0, 0),\n",
    "                           useMathText=True)\n",
    "\n",
    "    if save:\n",
    "        plt.savefig(savename, dpi=quality)\n",
    "    plt.close(fig)\n",
    "    return"
   ]
  },
  {
   "cell_type": "code",
   "execution_count": 25,
   "id": "88180625-3770-4135-8766-f1442eb4a679",
   "metadata": {},
   "outputs": [],
   "source": [
    "# for obsname in obs_name_list:\n",
    "def process_obsname(obsname):\n",
    "    print(f'Processing {obsname}')\n",
    "    for i, cdate in tqdm(enumerate(dates)):\n",
    "        cdate_str = cdate.strftime('%Y%m%d%H')\n",
    "        aeronetfile = f'{hofx_path}/{obsname}/hofx.aeronet_aod.{cdate_str}.nc4'\n",
    "        hofxfile = f'{hofx_path}/{obsname}/hofx.{obsname}.{cdate_str}.nc4'\n",
    "        dims_ds = xa.open_dataset(hofxfile)\n",
    "        channel = dims_ds.Channel.values\n",
    "\n",
    "        meta_ds = xa.open_dataset(hofxfile, group='MetaData')\n",
    "        lats = meta_ds.latitude.data\n",
    "        lons = meta_ds.longitude.data\n",
    "        if 'aeronet' in obsname:\n",
    "            wvl = round(aeronet_aod_wvl[plot_ch - 1])\n",
    "        else:\n",
    "            wvl = round(meta_ds.sensorCentralWavelength.sel(Channel=plot_ch)*1e3)\n",
    "        if 'aeronet' not in obsname:\n",
    "            lsfs = meta_ds.surfaceQualifier.data\n",
    "\n",
    "        obsv_ds = xa.open_dataset(hofxfile, group='ObsValue').assign_coords(Channel=channel.astype(np.int32))\n",
    "        hofx_ds = xa.open_dataset(hofxfile, group='hofx').assign_coords(Channel=channel.astype(np.int32))\n",
    "\n",
    "        obsv_data = obsv_ds[plotvar].sel(Channel=plot_ch).data\n",
    "        hofx_data = hofx_ds[plotvar].sel(Channel=plot_ch).data\n",
    "        ombs_data = obsv_data - hofx_data\n",
    "\n",
    "        data_dict = {\n",
    "            'omb': (['locs'], ombs_data),\n",
    "            'obs': (['locs'], obsv_data),\n",
    "            'hfx': (['locs'], hofx_data),\n",
    "            'lat': (['locs'], lats),\n",
    "            'lon': (['locs'], lons),\n",
    "        }\n",
    "        if 'aeronet' not in obsname:\n",
    "            data_dict['lsf'] = (['locs'], lsfs)\n",
    "\n",
    "        coord_dict = {'locs': range(ombs_data.size)}\n",
    "        tmpds = xa.Dataset(data_dict, coords=coord_dict)\n",
    "        if pltcyc:\n",
    "            for var in ['obs', 'omb', 'hfx']:\n",
    "                titlestr = f'{vardict[var]} of {obsname} at {cdate_str}'\n",
    "                sc2dplt = f'{cycs_savedir}/{var}/{obsname}/{var}2d.{obsname}.{cdate_str}.png'\n",
    "                plt_glb_scatter(tmpds, var, titlestr, fsave, sc2dplt)\n",
    "\n",
    "        if i == 0:\n",
    "            pltds = tmpds\n",
    "        else:\n",
    "            pltds = xa.concat((pltds, tmpds), dim='locs')\n",
    "\n",
    "    msking_dict = {\n",
    "        'all': pltds.obs.notnull().data,\n",
    "    }\n",
    "    if 'aeronet' not in obsname:\n",
    "        msking_dict['water'] = (pltds.lsf.data == 0),\n",
    "        msking_dict['land'] = (pltds.lsf.data != 0),\n",
    "    \n",
    "    # stratified based on obs aod\n",
    "    if pltstats:\n",
    "        for key, mask in tqdm(msking_dict.items()):\n",
    "            df = pltds.sel(locs=mask).to_dataframe()\n",
    "            df['obs_bin'] = pd.cut(df['obs'], bins=bins, labels=bin_lb, right=True)\n",
    "            \n",
    "            hist2dplt = f'{stat_savedir}/{key}.hist2d.{obsname}.{wvl}nm.{sdate}_{edate}.png'\n",
    "            plt_hist2d(df, 'obs', 'hfx', h2d_axis, fsave, hist2dplt,\n",
    "                       xlb=f'{obsname} {plotvar} {wvl}nm',\n",
    "                       ylb=f'{plotvar} {wvl}nm based on {bkg}')\n",
    "    out_dict = {}\n",
    "    if all_omb_stats:\n",
    "        # Calculate histogram and return the dataset for merge\n",
    "        for key, mask in tqdm(msking_dict.items()):\n",
    "            # column_name = f'{obsname}_{key}'\n",
    "            columns = pd.MultiIndex.from_tuples([(key, obsname)])\n",
    "            out_dict[(key, obsname)], bin_edges = np.histogram(\n",
    "                pltds['omb'].sel(locs=mask).data,\n",
    "                density=True,\n",
    "                bins=zero_c_bins,\n",
    "            )\n",
    "            \n",
    "    print(f'{obsname} finished')\n",
    "    return out_dict"
   ]
  },
  {
   "cell_type": "code",
   "execution_count": 26,
   "id": "a7998d42-b8f5-4429-ae54-20b09f0e280d",
   "metadata": {},
   "outputs": [
    {
     "name": "stdout",
     "output_type": "stream",
     "text": [
      "Processing aeronet_aod\n"
     ]
    },
    {
     "name": "stderr",
     "output_type": "stream",
     "text": [
      "120it [00:02, 46.27it/s]\n",
      "  0%|          | 0/1 [00:00<?, ?it/s]"
     ]
    },
    {
     "name": "stdout",
     "output_type": "stream",
     "text": [
      "Process Finished\n"
     ]
    },
    {
     "name": "stderr",
     "output_type": "stream",
     "text": [
      "100%|██████████| 1/1 [00:01<00:00,  1.05s/it]\n"
     ]
    },
    {
     "name": "stdout",
     "output_type": "stream",
     "text": [
      "aeronet_aod finished\n",
      "aeronet_aod finished\n"
     ]
    }
   ],
   "source": [
    "ombhists = Parallel(n_jobs=-1)(delayed(process_obsname)(obs) for obs in obs_name_list)\n",
    "print('Process Finished')"
   ]
  },
  {
   "cell_type": "code",
   "execution_count": 16,
   "id": "cea4a832-db87-42b1-b654-64dbc694c2ff",
   "metadata": {},
   "outputs": [],
   "source": [
    "if all_omb_stats:\n",
    "    flat_dict = {k: v for d in ombhists for k, v in d.items()}\n",
    "    df = pd.DataFrame(flat_dict)\n",
    "    df.index = zero_c_bin_lb"
   ]
  },
  {
   "cell_type": "code",
   "execution_count": 53,
   "id": "099f19b2-9d0f-4c72-b265-9f2c87093acf",
   "metadata": {},
   "outputs": [],
   "source": [
    "for key in ['all', 'water', 'land']:\n",
    "    ombhistplt = f'{stat_savedir}/allombhist.{key}.{sdate}_{edate}.png'\n",
    "    plt_all_omb_hist(key.capitalize(), df[key], fsave, ombhistplt)"
   ]
  },
  {
   "cell_type": "code",
   "execution_count": 47,
   "id": "216dbb8a-b3ec-4af0-8262-f0e8e6886315",
   "metadata": {},
   "outputs": [
    {
     "data": {
      "text/plain": [
       "'/glade/work/swei/projects/mmm.pace_aod/plots/stats'"
      ]
     },
     "execution_count": 47,
     "metadata": {},
     "output_type": "execute_result"
    }
   ],
   "source": [
    "stat_savedir"
   ]
  },
  {
   "cell_type": "code",
   "execution_count": 49,
   "id": "6c6a283d-109d-49ae-bb9f-7897e91ba588",
   "metadata": {},
   "outputs": [],
   "source": [
    "a = 'all'"
   ]
  },
  {
   "cell_type": "code",
   "execution_count": 51,
   "id": "79b51ef9-06c7-474f-9803-e265914bee13",
   "metadata": {},
   "outputs": [
    {
     "data": {
      "text/plain": [
       "'All'"
      ]
     },
     "execution_count": 51,
     "metadata": {},
     "output_type": "execute_result"
    }
   ],
   "source": [
    "a.capitalize()"
   ]
  },
  {
   "cell_type": "code",
   "execution_count": null,
   "id": "e64e2496-768a-43ce-a1dc-561ba7f637c2",
   "metadata": {},
   "outputs": [],
   "source": []
  }
 ],
 "metadata": {
  "kernelspec": {
   "display_name": "NPL 2025a",
   "language": "python",
   "name": "npl-2025a"
  },
  "language_info": {
   "codemirror_mode": {
    "name": "ipython",
    "version": 3
   },
   "file_extension": ".py",
   "mimetype": "text/x-python",
   "name": "python",
   "nbconvert_exporter": "python",
   "pygments_lexer": "ipython3",
   "version": "3.12.8"
  }
 },
 "nbformat": 4,
 "nbformat_minor": 5
}
