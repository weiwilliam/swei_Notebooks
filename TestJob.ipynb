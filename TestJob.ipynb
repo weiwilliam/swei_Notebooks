{
 "cells": [
  {
   "cell_type": "code",
   "execution_count": 52,
   "id": "d0656525-c9ac-49eb-bbd4-4c2cae77129b",
   "metadata": {},
   "outputs": [],
   "source": [
    "import requests\n",
    "import pandas as pd\n",
    "from bs4 import BeautifulSoup\n",
    "import matplotlib.pyplot as plt"
   ]
  },
  {
   "cell_type": "code",
   "execution_count": 53,
   "id": "eb4a9db2-6112-439d-b16c-476b7a891dff",
   "metadata": {},
   "outputs": [],
   "source": [
    "url = 'https://docs.google.com/document/d/e/2PACX-1vTER-wL5E8YC9pxDx43gk8eIds59GtUUk4nJo_ZWagbnrH0NFvMXIw6VWFLpf5tWTZIT9P9oLIoFJ6A/pub'"
   ]
  },
  {
   "cell_type": "code",
   "execution_count": 56,
   "id": "2d5b6f5c-a4f3-4fb0-9a7c-4e379d74bbfb",
   "metadata": {},
   "outputs": [],
   "source": [
    "def create_img(url):\n",
    "    response = requests.get(url)\n",
    "    soup = BeautifulSoup(response.text, 'html.parser')\n",
    "    \n",
    "    tables = soup.find_all(\"table\")\n",
    "    table = tables[0]\n",
    "    data = []\n",
    "    for row in table.find_all(\"tr\"):\n",
    "        cols = row.find_all([\"td\", \"th\"])\n",
    "        data.append([col.get_text(strip=True) for col in cols])\n",
    "    \n",
    "    df = pd.DataFrame(data[1:], columns=data[0])\n",
    "    \n",
    "    df['x-coordinate'] = pd.to_numeric(df['x-coordinate'], errors='coerce').astype('Int64')\n",
    "    df['y-coordinate'] = pd.to_numeric(df['y-coordinate'], errors='coerce').astype('Int64')\n",
    "    \n",
    "    df_sorted = df.sort_values(by=['y-coordinate', 'x-coordinate'], ascending=[False, True]).reset_index(drop=True)\n",
    "    \n",
    "    pivot = df_sorted.pivot(index='y-coordinate', columns='x-coordinate', values='Character')\n",
    "    pivot = pivot.sort_index(ascending=False)\n",
    "    \n",
    "    fig, ax = plt.subplots(figsize=(6, 6))\n",
    "    \n",
    "    # Draw grid\n",
    "    ax.imshow([[0]*pivot.shape[1]]*pivot.shape[0], cmap='Greys', alpha=0.1)\n",
    "    \n",
    "    # Annotate each cell with the character\n",
    "    for y in range(pivot.shape[0]):\n",
    "        for x in range(pivot.shape[1]):\n",
    "            char = pivot.iloc[y, x]\n",
    "            if pd.notna(char):\n",
    "                ax.text(x, y, char, ha='center', va='center', fontsize=5)\n",
    "    \n",
    "    # Set ticks\n",
    "    ax.set_xticks([])\n",
    "    ax.set_yticks([])\n",
    "    ax.set_xticklabels([])\n",
    "    ax.set_yticklabels([])\n",
    "    \n",
    "    # Make y-axis grow downward\n",
    "    ax.invert_yaxis()\n",
    "    plt.show()"
   ]
  },
  {
   "cell_type": "code",
   "execution_count": 55,
   "id": "7df4fc7c-e75b-4034-a105-eca7d6238720",
   "metadata": {},
   "outputs": [
    {
     "data": {
      "image/png": "[encoded data removed]",
      "text/plain": [
       "<Figure size 600x600 with 1 Axes>"
      ]
     },
     "metadata": {},
     "output_type": "display_data"
    }
   ],
   "source": [
    "create_img(url)"
   ]
  },
  {
   "cell_type": "code",
   "execution_count": null,
   "id": "cb44e0d8-2d4b-46a7-a7e3-12d958abc9ff",
   "metadata": {},
   "outputs": [],
   "source": []
  }
 ],
 "metadata": {
  "kernelspec": {
   "display_name": "NPL 2025a",
   "language": "python",
   "name": "npl-2025a"
  },
  "language_info": {
   "codemirror_mode": {
    "name": "ipython",
    "version": 3
   },
   "file_extension": ".py",
   "mimetype": "text/x-python",
   "name": "python",
   "nbconvert_exporter": "python",
   "pygments_lexer": "ipython3",
   "version": "3.12.8"
  }
 },
 "nbformat": 4,
 "nbformat_minor": 5
}
