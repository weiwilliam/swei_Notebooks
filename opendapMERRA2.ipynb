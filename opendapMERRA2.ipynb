{
 "cells": [
  {
   "cell_type": "markdown",
   "id": "be9d7b45-fe21-4348-94a5-4b2ac5741d76",
   "metadata": {},
   "source": [
    "# It works with NPL 2023a but not the versions after"
   ]
  },
  {
   "cell_type": "code",
   "execution_count": 7,
   "id": "5b090399-4ef0-43b2-95b9-954f8f8c237e",
   "metadata": {},
   "outputs": [],
   "source": [
    "import os\n",
    "import xarray as xa\n",
    "import cartopy.crs as ccrs\n",
    "import matplotlib.pyplot as plt\n",
    "import matplotlib.colors as mpcrs\n",
    "from pylibs.utils import get_dates, setup_cmap\n",
    "from pylibs.plot_utils import setupax_2dmap"
   ]
  },
  {
   "cell_type": "code",
   "execution_count": 16,
   "id": "31552327-29c2-407e-9e54-d8b2bd308e28",
   "metadata": {},
   "outputs": [],
   "source": [
    "start_date = 2024110506\n",
    "end_date = 2024110512\n",
    "cycle_int = 6\n",
    "\n",
    "m2Tag = 'M2I3NXGAS.5.12.4'\n",
    "m2FileTag = 'inst3_2d_gas_Nx'\n",
    "plotVar = 'AODANA'\n",
    "save = 1\n",
    "quality = 600\n",
    "\n",
    "dates = get_dates(start_date, end_date, cycle_int)"
   ]
  },
  {
   "cell_type": "code",
   "execution_count": 8,
   "id": "306e49f6-715a-43bd-8989-a784daf80717",
   "metadata": {},
   "outputs": [],
   "source": [
    "m2Url = 'https://goldsmr4.gesdisc.eosdis.nasa.gov/opendap/MERRA2'\n",
    "savedir = '/glade/work/swei/projects/mmm.pace_aod/plots/merra2'\n",
    "if not os.path.exists(savedir):\n",
    "    os.makedirs(savedir)"
   ]
  },
  {
   "cell_type": "code",
   "execution_count": 4,
   "id": "e8305a8f-5720-4d09-93bc-eb8187e088f0",
   "metadata": {},
   "outputs": [],
   "source": [
    "cnlvs = [0., 0.05, 0.1, 0.15, 0.2, 0.4, 0.6, 0.8, 1.0, 1.2, 1.5, 2.5]\n",
    "clridx = [2, 4, 5, 7, 8, 9, 10, 12, 14, 15, 16, 17, 18]\n",
    "tuplelst, clrmap = setup_cmap('precip3_16lev', cnlvs, clridx)\n",
    "clr_norm = mpcrs.BoundaryNorm(cnlvs, len(clridx), extend='both')"
   ]
  },
  {
   "cell_type": "code",
   "execution_count": 17,
   "id": "d416018d-1116-467d-aea0-38aa6211adb0",
   "metadata": {},
   "outputs": [],
   "source": [
    "for date in dates:\n",
    "    y4 = date.strftime('%Y')\n",
    "    m2 = date.strftime('%m')\n",
    "    pdyStr = date.strftime('%Y%m%d')\n",
    "    dateStr = date.strftime('%Y%m%d%H')\n",
    "    m2File = f'{m2Url}/{m2Tag}/{y4}/{m2}/MERRA2_400.{m2FileTag}.{pdyStr}.nc4'\n",
    "\n",
    "    ds = xa.open_dataset(m2File)\n",
    "    pltds = ds.sel(time=date)\n",
    "\n",
    "    fig, ax, gl = setupax_2dmap([1., 1., 1., 1.], 'Glb', ccrs.PlateCarree(), lbsize=12)\n",
    "    cn = ax.contourf(pltds.lon, pltds.lat, pltds[plotVar],\n",
    "                   levels=cnlvs, cmap=clrmap, norm=clr_norm, extend='both')\n",
    "    plt.colorbar(cn, ax=ax, pad=0.05, fraction=0.025, ticks=cnlvs)\n",
    "    ax.set_title(f'time={date}')\n",
    "    figname = f'MERRA2.{plotVar}.{dateStr}.png'\n",
    "    if save:\n",
    "        fig.savefig(figname, dpi=quality)\n",
    "        plt.close()"
   ]
  },
  {
   "cell_type": "code",
   "execution_count": null,
   "id": "f71a867e-c799-415d-8365-157b2e1fc32e",
   "metadata": {},
   "outputs": [],
   "source": []
  }
 ],
 "metadata": {
  "kernelspec": {
   "display_name": "NPL 2023a",
   "language": "python",
   "name": "npl-2023a"
  },
  "language_info": {
   "codemirror_mode": {
    "name": "ipython",
    "version": 3
   },
   "file_extension": ".py",
   "mimetype": "text/x-python",
   "name": "python",
   "nbconvert_exporter": "python",
   "pygments_lexer": "ipython3",
   "version": "3.9.16"
  }
 },
 "nbformat": 4,
 "nbformat_minor": 5
}
