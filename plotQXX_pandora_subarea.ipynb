{
 "cells": [
  {
   "cell_type": "code",
   "execution_count": 1,
   "id": "df43b193-25df-42cb-b3b7-2e3699577580",
   "metadata": {},
   "outputs": [],
   "source": [
    "import os\n",
    "from pathlib import Path\n",
    "import numpy as np\n",
    "import xarray as xr\n",
    "import pandas as pd\n",
    "import matplotlib as mpl\n",
    "import matplotlib.pyplot as plt\n",
    "import matplotlib.path as mpath\n",
    "import cartopy.crs as ccrs\n",
    "import cartopy.feature as cft\n",
    "from cartopy.mpl.ticker import LongitudeFormatter, LatitudeFormatter\n",
    "from pylibs.plot_utils import set_size\n",
    "from pylibs.setuparea import setarea\n",
    "from pylibs.utils import get_dates"
   ]
  },
  {
   "cell_type": "code",
   "execution_count": 2,
   "id": "707ea253-b01e-4361-b9c5-46cccdd988e9",
   "metadata": {},
   "outputs": [],
   "source": [
    "tlsize = 12\n",
    "txsize = 12\n",
    "mpl.rc('axes', titlesize=tlsize, labelsize=txsize)\n",
    "mpl.rc('xtick', labelsize=txsize)\n",
    "mpl.rc('ytick', labelsize=txsize)\n",
    "mpl.rc('legend', fontsize='small')"
   ]
  },
  {
   "cell_type": "code",
   "execution_count": 3,
   "id": "a16dc089-ab60-4200-8c6a-b8e1cf7164e0",
   "metadata": {},
   "outputs": [],
   "source": [
    "axe_w = 4; axe_h = 4; plot_quality = 600\n",
    "# Level control\n",
    "vmin = 0; vmax = 1.e-4\n",
    "# Colorbar control\n",
    "cb_ori = 'vertical'\n",
    "cb_frac = 0.025\n",
    "cb_pad = 0.04\n",
    "cb_asp = 32\n",
    "# Area control\n",
    "area = 'wxaq'\n",
    "\n",
    "sub_areas = {\n",
    "    'Boston': [-72., -70., 42., 43.],\n",
    "    'NewYork': [-75.6, -72.4, 39.8, 41.4],\n",
    "    'Toronto': [-80., -78., 43., 44.],\n",
    "}\n",
    "minlon = -81.; maxlon = -70; minlat = 39.8; maxlat = 46.\n",
    "\n",
    "srcpath = '/glade/work/swei/Git/JEDI-METplus'\n",
    "\n",
    "plot_product = 'wrfchem_evaluate'\n",
    "obs_name = 'pandora_no2_total-wxaq'\n",
    "\n",
    "# JEDI variable name, var:channel \n",
    "plot_var = 'nitrogendioxideTotal'\n",
    "\n",
    "vrfy_fhr = 19\n",
    "sdate = 2024082419\n",
    "edate = 2024082419\n",
    "hint = 24\n",
    "dates = get_dates(sdate, edate, hint)\n",
    "\n",
    "unit_str = 'mol m$^{-2}$'\n",
    "\n",
    "hofx_path = os.path.join(srcpath, 'output', plot_product, 'hofx',\n",
    "                         'f%.2i' % (vrfy_fhr), obs_name)\n",
    "plts_path = os.path.join(srcpath, 'output', plot_product, 'plots', '2dmap', obs_name)\n",
    "\n",
    "if not os.path.exists(hofx_path):\n",
    "    raise Exception(f'HofX folder: {hofx_path} is not available')\n",
    "\n",
    "if not os.path.exists(plts_path):\n",
    "    os.makedirs(plts_path)\n",
    "\n",
    "# Setup projection\n",
    "if area == 'wxaq':\n",
    "    proj = ccrs.LambertConformal(central_longitude=-97.0,\n",
    "                                 central_latitude=39.0,\n",
    "                                 standard_parallels=[30., 60.])\n",
    "if area == 'glb':\n",
    "    proj = ccrs.PlateCarree()"
   ]
  },
  {
   "cell_type": "code",
   "execution_count": 4,
   "id": "41d89b3f-aedd-4d45-bb69-b4e37bd70b20",
   "metadata": {},
   "outputs": [
    {
     "name": "stdout",
     "output_type": "stream",
     "text": [
      "Processing: hofx.pandora_no2_total-wxaq.2024082419.nc4\n",
      "Process Finished\n"
     ]
    }
   ],
   "source": [
    "for cdate in dates:\n",
    "    plot_date = cdate.strftime('%Y%m%d%H')\n",
    "    hofx_file = f'hofx.{obs_name}.{plot_date}.nc4'\n",
    "    print(f'Processing: {hofx_file}')\n",
    "    in_hofx = os.path.join(hofx_path, hofx_file)\n",
    "    if not os.path.exists(in_hofx):\n",
    "        print(f'WARNING: Skip {plot_date}, {hofx_file} is not available')\n",
    "        continue\n",
    "\n",
    "    raw_ds = xr.open_dataset(in_hofx)\n",
    "    meta_ds = xr.open_dataset(in_hofx,group='MetaData')\n",
    "    lons = meta_ds.longitude\n",
    "    lats = meta_ds.latitude\n",
    "    \n",
    "    obsval_ds = xr.open_dataset(in_hofx, group='ObsValue')\n",
    "    hofx_ds = xr.open_dataset(in_hofx, group='hofx')\n",
    "    preqc_ds = xr.open_dataset(in_hofx, group='PreQC')\n",
    "\n",
    "    varname = plot_var\n",
    "    df = meta_ds.to_dataframe()\n",
    "    df['ObsValue'] = obsval_ds[varname].values\n",
    "    df['hofx'] = hofx_ds[varname].values\n",
    "    df['preqc'] = preqc_ds[varname].values\n",
    "    pltdf = df.groupby(['latitude', 'longitude'])[['ObsValue', 'hofx']].mean().reset_index()\n",
    "    \n",
    "    for plot_type in ['ObsValue', 'H(X)']:\n",
    "        if plot_type == 'ObsValue':\n",
    "            pltcolumn = 'ObsValue'\n",
    "        if plot_type == 'H(X)':\n",
    "            pltcolumn = 'hofx'\n",
    "\n",
    "        for sub_area_name in sub_areas.keys():\n",
    "            minlon, maxlon, minlat, maxlat = sub_areas[sub_area_name]\n",
    "\n",
    "            fig = plt.figure()\n",
    "            ax = plt.subplot(projection=proj)\n",
    "            set_size(axe_w, axe_h, t=0.96, l=0.14, b=0.1, r=0.86)\n",
    "            ax.set_extent((minlon, maxlon, minlat, maxlat), crs=ccrs.PlateCarree())\n",
    "            gl = ax.gridlines(draw_labels=False, dms=True, x_inline=False, y_inline=False)\n",
    "            gl.xlines = False\n",
    "            gl.ylines = False\n",
    "            gl.xlabel_style = {'size': txsize - 1}\n",
    "            gl.ylabel_style = {'size': txsize - 1}\n",
    "            gl.right_labels = False\n",
    "            gl.top_labels = False\n",
    "            # gl.xformatter = LongitudeFormatter(degree_symbol=u'\\u00B0 ')\n",
    "            # gl.yformatter = LatitudeFormatter(degree_symbol=u'\\u00B0 ')\n",
    "            sc = ax.scatter(pltdf['longitude'], pltdf['latitude'], c=pltdf[pltcolumn], s=100,\n",
    "                            vmin=vmin, vmax=vmax, transform=ccrs.PlateCarree(),\n",
    "                            cmap='managua_r', alpha=0.8, zorder=5)\n",
    "\n",
    "            ax.add_feature(cft.BORDERS.with_scale('10m'), linestyle='--')\n",
    "            if area == 'glb':\n",
    "                ax.coastlines(resolution='10m')\n",
    "            if area == 'wxaq':\n",
    "                ax.add_feature(cft.STATES.with_scale('10m'))\n",
    "                ax.add_feature(cft.LAKES.with_scale('10m'), facecolor='None',\n",
    "                               edgecolor='k')\n",
    "\n",
    "            title_str = f'{plot_type} at {plot_date} {sub_area_name}'\n",
    "            cb_str = f'{plot_var} ({unit_str})'\n",
    "            ax.set_title(title_str)\n",
    "            cb = plt.colorbar(sc, orientation=cb_ori, fraction=cb_frac, pad=cb_pad, aspect=cb_asp, label=cb_str)\n",
    "            cb.set_label(cb_str, fontsize=txsize)\n",
    "            cb.ax.ticklabel_format(axis='y', style='sci', scilimits=(0, 0), useMathText=True)\n",
    "\n",
    "            plotname = f'{sub_area_name}.{pltcolumn}.{varname}.f{vrfy_fhr}.{plot_date}.png'\n",
    "            outname = os.path.join(plts_path, plotname)\n",
    "            fig.savefig(outname, dpi=plot_quality)\n",
    "            plt.close()\n",
    "\n",
    "print('Process Finished')"
   ]
  },
  {
   "cell_type": "code",
   "execution_count": 52,
   "id": "2297bcaa-3df4-4420-8ca6-b5dee43ae57d",
   "metadata": {},
   "outputs": [
    {
     "name": "stdout",
     "output_type": "stream",
     "text": [
      "-72.0 -70.0 42.0 43.0\n",
      "-75.6 -72.4 39.8 41.4\n",
      "-80.0 -78.0 43.0 44.0\n"
     ]
    }
   ],
   "source": [
    "for sub_area_name in sub_areas.keys():\n",
    "    minlon, maxlon, minlat, maxlat = sub_areas[sub_area_name]\n",
    "    print(minlon, maxlon, minlat, maxlat)"
   ]
  },
  {
   "cell_type": "code",
   "execution_count": 25,
   "id": "abadcca9-a41a-4f76-afb9-f736b1d149c0",
   "metadata": {},
   "outputs": [
    {
     "data": {
      "text/plain": [
       "{'Boston': [-72.0, -70.0, 42.0, 44.0],\n",
       " 'NewYork': [-76.0, -73.0, 38.0, 41.0],\n",
       " 'Toronto': [-80.0, -78.0, 42.5, 44.5]}"
      ]
     },
     "execution_count": 25,
     "metadata": {},
     "output_type": "execute_result"
    }
   ],
   "source": [
    "sub_areas"
   ]
  },
  {
   "cell_type": "code",
   "execution_count": null,
   "id": "4f6c3f20-6e24-4d3a-9dbc-37ea1865d5f6",
   "metadata": {},
   "outputs": [],
   "source": []
  }
 ],
 "metadata": {
  "kernelspec": {
   "display_name": "NPL 2025b",
   "language": "python",
   "name": "npl-2025b"
  },
  "language_info": {
   "codemirror_mode": {
    "name": "ipython",
    "version": 3
   },
   "file_extension": ".py",
   "mimetype": "text/x-python",
   "name": "python",
   "nbconvert_exporter": "python",
   "pygments_lexer": "ipython3",
   "version": "3.12.11"
  }
 },
 "nbformat": 4,
 "nbformat_minor": 5
}
