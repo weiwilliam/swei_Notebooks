{
 "cells": [
  {
   "cell_type": "code",
   "execution_count": null,
   "id": "87697de6-db87-4d10-b833-3f416aa08054",
   "metadata": {},
   "outputs": [],
   "source": [
    "import numpy as np\n",
    "import xarray as xa"
   ]
  },
  {
   "cell_type": "code",
   "execution_count": null,
   "id": "8676333e-620d-40da-bde4-4391f70f1dbc",
   "metadata": {},
   "outputs": [],
   "source": [
    "rgas = 287.\n",
    "cp = 7. * rgas / 2.\n",
    "p0 = 100000."
   ]
  },
  {
   "cell_type": "code",
   "execution_count": null,
   "id": "afe5e762-9c2e-498b-b8bf-e1398c695094",
   "metadata": {},
   "outputs": [],
   "source": [
    "wrfout = '/glade/derecho/scratch/swei/wxaq-sedi/out/MODELOUT/wrfgsi.out.2023072818/subset_wrfout_d01_20230729_000000.nc'\n",
    "ds = xa.open_dataset(wrfout)"
   ]
  },
  {
   "cell_type": "code",
   "execution_count": null,
   "id": "8394e6fa-2599-47e8-8c6f-2d20e0ce667e",
   "metadata": {},
   "outputs": [],
   "source": [
    "air_pressure = ds.P + ds.PB\n",
    "air_potentialTemp = ds.T + 300."
   ]
  },
  {
   "cell_type": "code",
   "execution_count": null,
   "id": "be00178c-fae5-4b4e-80ab-c5a518e536c3",
   "metadata": {},
   "outputs": [],
   "source": [
    "airT_0 = air_potentialTemp * (air_pressure / p0) ** (rgas / cp)\n",
    "airT_1 = air_potentialTemp * (p0 / air_pressure) ** (rgas / cp)"
   ]
  },
  {
   "cell_type": "code",
   "execution_count": null,
   "id": "2ccb252c-e020-4c1d-bb19-7c07f043f808",
   "metadata": {},
   "outputs": [],
   "source": [
    "diff = airT_0 - airT_1"
   ]
  },
  {
   "cell_type": "code",
   "execution_count": null,
   "id": "b4ee22e7-9f32-4ea0-ba70-947e99ae45ff",
   "metadata": {},
   "outputs": [],
   "source": [
    "diff.min()"
   ]
  },
  {
   "cell_type": "code",
   "execution_count": null,
   "id": "37e605da-5346-4bc2-a4a5-7432d894b9a7",
   "metadata": {},
   "outputs": [],
   "source": []
  }
 ],
 "metadata": {
  "kernelspec": {
   "display_name": "NPL 2025a",
   "language": "python",
   "name": "npl-2025a"
  },
  "language_info": {
   "codemirror_mode": {
    "name": "ipython",
    "version": 3
   },
   "file_extension": ".py",
   "mimetype": "text/x-python",
   "name": "python",
   "nbconvert_exporter": "python",
   "pygments_lexer": "ipython3",
   "version": "3.12.8"
  }
 },
 "nbformat": 4,
 "nbformat_minor": 5
}
