{
 "cells": [
  {
   "cell_type": "code",
   "execution_count": 2,
   "id": "9feb4cd9-6a7d-4e82-b5cb-0c65097bf933",
   "metadata": {},
   "outputs": [],
   "source": [
    "import earthaccess"
   ]
  },
  {
   "cell_type": "code",
   "execution_count": null,
   "id": "0e70bee6-fec9-4a8f-8fe8-d432a00c9683",
   "metadata": {},
   "outputs": [],
   "source": []
  }
 ],
 "metadata": {
  "kernelspec": {
   "display_name": "Python [conda env:swei]",
   "language": "python",
   "name": "conda-env-swei-py"
  },
  "language_info": {
   "codemirror_mode": {
    "name": "ipython",
    "version": 3
   },
   "file_extension": ".py",
   "mimetype": "text/x-python",
   "name": "python",
   "nbconvert_exporter": "python",
   "pygments_lexer": "ipython3",
   "version": "3.12.11"
  }
 },
 "nbformat": 4,
 "nbformat_minor": 5
}
